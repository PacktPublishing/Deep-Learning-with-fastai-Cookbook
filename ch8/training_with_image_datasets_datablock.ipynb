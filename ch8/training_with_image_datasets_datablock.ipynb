{
 "cells": [
  {
   "cell_type": "markdown",
   "metadata": {
    "id": "ejRBf1w9hYbR"
   },
   "source": [
    "# Training a model with a curated image dataset in fastai\n",
    "Walkthrough of how to train a deep learning model in fastai with a curated image dataset\n"
   ]
  },
  {
   "cell_type": "code",
   "execution_count": 82,
   "metadata": {
    "colab": {
     "base_uri": "https://localhost:8080/"
    },
    "executionInfo": {
     "elapsed": 10211,
     "status": "ok",
     "timestamp": 1609715957290,
     "user": {
      "displayName": "Mark Ryan",
      "photoUrl": "https://lh3.googleusercontent.com/a-/AOh14GiOaJEeoxteIdEhraqpv8y7ol-feJVt-BYY9ceTIQ=s64",
      "userId": "08045617267833954278"
     },
     "user_tz": 300
    },
    "id": "Ki-WcATwhc8y",
    "outputId": "0514a27b-0f7c-4e7c-cfe6-470efb10d800"
   },
   "outputs": [],
   "source": [
    "# imports for notebook boilerplate\n",
    "!pip install -Uqq fastbook\n",
    "import fastbook\n",
    "from fastbook import *\n",
    "from fastai.vision.all import *"
   ]
  },
  {
   "cell_type": "code",
   "execution_count": 83,
   "metadata": {
    "colab": {
     "base_uri": "https://localhost:8080/"
    },
    "executionInfo": {
     "elapsed": 32189,
     "status": "ok",
     "timestamp": 1609715997519,
     "user": {
      "displayName": "Mark Ryan",
      "photoUrl": "https://lh3.googleusercontent.com/a-/AOh14GiOaJEeoxteIdEhraqpv8y7ol-feJVt-BYY9ceTIQ=s64",
      "userId": "08045617267833954278"
     },
     "user_tz": 300
    },
    "id": "d7LkLn1jh9we",
    "outputId": "19fb5411-cc20-4f13-ba3d-b2fab9816a39"
   },
   "outputs": [],
   "source": [
    "# set up the notebook for fast.ai\n",
    "fastbook.setup_book()"
   ]
  },
  {
   "cell_type": "markdown",
   "metadata": {},
   "source": [
    "# Ingest the dataset\n",
    "- create a path object\n",
    "- defined an ImageDataLoaders object"
   ]
  },
  {
   "cell_type": "code",
   "execution_count": 84,
   "metadata": {
    "colab": {
     "base_uri": "https://localhost:8080/",
     "height": 17
    },
    "executionInfo": {
     "elapsed": 11246,
     "status": "ok",
     "timestamp": 1609716023273,
     "user": {
      "displayName": "Mark Ryan",
      "photoUrl": "https://lh3.googleusercontent.com/a-/AOh14GiOaJEeoxteIdEhraqpv8y7ol-feJVt-BYY9ceTIQ=s64",
      "userId": "08045617267833954278"
     },
     "user_tz": 300
    },
    "id": "V438-u4xiEbz",
    "outputId": "be07a2f2-5066-46a3-9b72-57f3d31d3e9b"
   },
   "outputs": [],
   "source": [
    "# ingest the curated image dataset CIFAR\n",
    "path = untar_data(URLs.CIFAR)"
   ]
  },
  {
   "cell_type": "code",
   "execution_count": 85,
   "metadata": {},
   "outputs": [
    {
     "data": {
      "text/plain": [
       "Path('/storage/data/cifar10')"
      ]
     },
     "execution_count": 85,
     "metadata": {},
     "output_type": "execute_result"
    }
   ],
   "source": [
    "path"
   ]
  },
  {
   "cell_type": "code",
   "execution_count": 86,
   "metadata": {
    "colab": {
     "base_uri": "https://localhost:8080/"
    },
    "executionInfo": {
     "elapsed": 505,
     "status": "ok",
     "timestamp": 1609716025933,
     "user": {
      "displayName": "Mark Ryan",
      "photoUrl": "https://lh3.googleusercontent.com/a-/AOh14GiOaJEeoxteIdEhraqpv8y7ol-feJVt-BYY9ceTIQ=s64",
      "userId": "08045617267833954278"
     },
     "user_tz": 300
    },
    "id": "x0sI5GXfjJtr",
    "outputId": "69145081-ad19-49ca-83ee-970a628493cd"
   },
   "outputs": [
    {
     "data": {
      "text/plain": [
       "(#3) [Path('/storage/data/cifar10/train'),Path('/storage/data/cifar10/labels.txt'),Path('/storage/data/cifar10/test')]"
      ]
     },
     "execution_count": 86,
     "metadata": {},
     "output_type": "execute_result"
    }
   ],
   "source": [
    "# examine the directory structure of the dataset\n",
    "path.ls()"
   ]
  },
  {
   "cell_type": "code",
   "execution_count": 87,
   "metadata": {},
   "outputs": [],
   "source": [
    "'''pets1 = DataBlock(blocks = (ImageBlock, CategoryBlock),\n",
    "                 get_items=get_image_files,\n",
    "                 splitter=RandomSplitter(seed=42),\n",
    "                 get_y=using_attr(RegexLabeller(r'(.+)_\\d+.jpg$'), 'name'))\n",
    "'''\n",
    "db = DataBlock(blocks = (ImageBlock, CategoryBlock),\n",
    "                 get_items=get_image_files,\n",
    "                 splitter=RandomSplitter(seed=42),\n",
    "                 get_y=parent_label)"
   ]
  },
  {
   "cell_type": "code",
   "execution_count": 88,
   "metadata": {},
   "outputs": [],
   "source": [
    "dls = db.dataloaders(path/'train',bs=32)"
   ]
  },
  {
   "cell_type": "code",
   "execution_count": 89,
   "metadata": {},
   "outputs": [],
   "source": [
    "# dls = db.dataloaders(path,bs=32)\n",
    "#dls = ImageDataLoaders.from_folder(path, train='train', valid='test')"
   ]
  },
  {
   "cell_type": "code",
   "execution_count": 90,
   "metadata": {},
   "outputs": [
    {
     "name": "stdout",
     "output_type": "stream",
     "text": [
      "Setting-up type transforms pipelines\n",
      "Collecting items from /storage/data/cifar10/train\n",
      "Found 50000 items\n",
      "2 datasets of sizes 40000,10000\n",
      "Setting up Pipeline: PILBase.create\n",
      "Setting up Pipeline: parent_label -> Categorize -- {'vocab': None, 'sort': True, 'add_na': False}\n",
      "\n",
      "Building one sample\n",
      "  Pipeline: PILBase.create\n",
      "    starting from\n",
      "      /storage/data/cifar10/train/truck/3702_truck.png\n",
      "    applying PILBase.create gives\n",
      "      PILImage mode=RGB size=32x32\n",
      "  Pipeline: parent_label -> Categorize -- {'vocab': None, 'sort': True, 'add_na': False}\n",
      "    starting from\n",
      "      /storage/data/cifar10/train/truck/3702_truck.png\n",
      "    applying parent_label gives\n",
      "      truck\n",
      "    applying Categorize -- {'vocab': None, 'sort': True, 'add_na': False} gives\n",
      "      TensorCategory(9)\n",
      "\n",
      "Final sample: (PILImage mode=RGB size=32x32, TensorCategory(9))\n",
      "\n",
      "\n",
      "Setting up after_item: Pipeline: ToTensor\n",
      "Setting up before_batch: Pipeline: \n",
      "Setting up after_batch: Pipeline: IntToFloatTensor -- {'div': 255.0, 'div_mask': 1}\n",
      "\n",
      "Building one batch\n",
      "Applying item_tfms to the first sample:\n",
      "  Pipeline: ToTensor\n",
      "    starting from\n",
      "      (PILImage mode=RGB size=32x32, TensorCategory(9))\n",
      "    applying ToTensor gives\n",
      "      (TensorImage of size 3x32x32, TensorCategory(9))\n",
      "\n",
      "Adding the next 3 samples\n",
      "\n",
      "No before_batch transform to apply\n",
      "\n",
      "Collating items in a batch\n",
      "\n",
      "Applying batch_tfms to the batch built\n",
      "  Pipeline: IntToFloatTensor -- {'div': 255.0, 'div_mask': 1}\n",
      "    starting from\n",
      "      (TensorImage of size 4x3x32x32, TensorCategory([9, 7, 9, 0], device='cuda:0'))\n",
      "    applying IntToFloatTensor -- {'div': 255.0, 'div_mask': 1} gives\n",
      "      (TensorImage of size 4x3x32x32, TensorCategory([9, 7, 9, 0], device='cuda:0'))\n"
     ]
    }
   ],
   "source": [
    "# summary must be run on DataBlock object, not dataloaders object\n",
    "db.summary(path/\"train\")\n",
    "\n"
   ]
  },
  {
   "cell_type": "markdown",
   "metadata": {},
   "source": [
    "# Examine the dataset"
   ]
  },
  {
   "cell_type": "code",
   "execution_count": 91,
   "metadata": {},
   "outputs": [
    {
     "data": {
      "image/png": "[encoded data removed]",
      "text/plain": [
       "<Figure size 864x216 with 4 Axes>"
      ]
     },
     "metadata": {
      "needs_background": "light"
     },
     "output_type": "display_data"
    }
   ],
   "source": [
    "# show a batch of training data\n",
    "dls.train.show_batch(max_n=4, nrows=1)\n"
   ]
  },
  {
   "cell_type": "code",
   "execution_count": 92,
   "metadata": {
    "colab": {
     "base_uri": "https://localhost:8080/"
    },
    "executionInfo": {
     "elapsed": 545,
     "status": "ok",
     "timestamp": 1609716033381,
     "user": {
      "displayName": "Mark Ryan",
      "photoUrl": "https://lh3.googleusercontent.com/a-/AOh14GiOaJEeoxteIdEhraqpv8y7ol-feJVt-BYY9ceTIQ=s64",
      "userId": "08045617267833954278"
     },
     "user_tz": 300
    },
    "id": "rQnVLfz3kVKE",
    "outputId": "3c2d007c-2b80-47e2-fbd8-f46a9745f58e"
   },
   "outputs": [
    {
     "data": {
      "text/plain": [
       "(#10) [Path('/storage/data/cifar10/train/horse'),Path('/storage/data/cifar10/train/dog'),Path('/storage/data/cifar10/train/ship'),Path('/storage/data/cifar10/train/frog'),Path('/storage/data/cifar10/train/truck'),Path('/storage/data/cifar10/train/deer'),Path('/storage/data/cifar10/train/airplane'),Path('/storage/data/cifar10/train/automobile'),Path('/storage/data/cifar10/train/cat'),Path('/storage/data/cifar10/train/bird')]"
      ]
     },
     "execution_count": 92,
     "metadata": {},
     "output_type": "execute_result"
    }
   ],
   "source": [
    "# examine the train subdirectory\n",
    "(path/'train').ls()"
   ]
  },
  {
   "cell_type": "code",
   "execution_count": 93,
   "metadata": {},
   "outputs": [
    {
     "data": {
      "text/plain": [
       "(#5000) [Path('/storage/data/cifar10/train/dog/26785_dog.png'),Path('/storage/data/cifar10/train/dog/47662_dog.png'),Path('/storage/data/cifar10/train/dog/48730_dog.png'),Path('/storage/data/cifar10/train/dog/40889_dog.png'),Path('/storage/data/cifar10/train/dog/24363_dog.png'),Path('/storage/data/cifar10/train/dog/44046_dog.png'),Path('/storage/data/cifar10/train/dog/26962_dog.png'),Path('/storage/data/cifar10/train/dog/19003_dog.png'),Path('/storage/data/cifar10/train/dog/47416_dog.png'),Path('/storage/data/cifar10/train/dog/31111_dog.png')...]"
      ]
     },
     "execution_count": 93,
     "metadata": {},
     "output_type": "execute_result"
    }
   ],
   "source": [
    "(path/'train/dog').ls()"
   ]
  },
  {
   "cell_type": "code",
   "execution_count": 94,
   "metadata": {},
   "outputs": [
    {
     "data": {
      "text/plain": [
       "(#5000) [Path('/storage/data/cifar10/train/cat/1845_cat.png'),Path('/storage/data/cifar10/train/cat/26087_cat.png'),Path('/storage/data/cifar10/train/cat/24817_cat.png'),Path('/storage/data/cifar10/train/cat/47541_cat.png'),Path('/storage/data/cifar10/train/cat/44852_cat.png'),Path('/storage/data/cifar10/train/cat/37669_cat.png'),Path('/storage/data/cifar10/train/cat/11236_cat.png'),Path('/storage/data/cifar10/train/cat/4329_cat.png'),Path('/storage/data/cifar10/train/cat/44859_cat.png'),Path('/storage/data/cifar10/train/cat/22425_cat.png')...]"
      ]
     },
     "execution_count": 94,
     "metadata": {},
     "output_type": "execute_result"
    }
   ],
   "source": [
    "(path/'train/cat').ls()"
   ]
  },
  {
   "cell_type": "code",
   "execution_count": 95,
   "metadata": {
    "colab": {
     "base_uri": "https://localhost:8080/",
     "height": 517
    },
    "executionInfo": {
     "elapsed": 1020,
     "status": "ok",
     "timestamp": 1609716037336,
     "user": {
      "displayName": "Mark Ryan",
      "photoUrl": "https://lh3.googleusercontent.com/a-/AOh14GiOaJEeoxteIdEhraqpv8y7ol-feJVt-BYY9ceTIQ=s64",
      "userId": "08045617267833954278"
     },
     "user_tz": 300
    },
    "id": "Qq1sw00Lk2B2",
    "outputId": "57019dd7-d51f-43ea-f7d6-73aa6a6617f4"
   },
   "outputs": [
    {
     "data": {
      "image/png": "[encoded data removed]",
      "text/plain": [
       "PILImage mode=RGB size=32x32"
      ]
     },
     "execution_count": 95,
     "metadata": {},
     "output_type": "execute_result"
    }
   ],
   "source": [
    "# take a look at one of the images\n",
    "img_files = get_image_files(path)\n",
    "img = PILImage.create(img_files[100])\n",
    "img"
   ]
  },
  {
   "cell_type": "code",
   "execution_count": 96,
   "metadata": {
    "colab": {
     "base_uri": "https://localhost:8080/",
     "height": 152
    },
    "executionInfo": {
     "elapsed": 403,
     "status": "ok",
     "timestamp": 1609716041687,
     "user": {
      "displayName": "Mark Ryan",
      "photoUrl": "https://lh3.googleusercontent.com/a-/AOh14GiOaJEeoxteIdEhraqpv8y7ol-feJVt-BYY9ceTIQ=s64",
      "userId": "08045617267833954278"
     },
     "user_tz": 300
    },
    "id": "1GwsR2sF_OVf",
    "outputId": "2712e0a6-b5c8-4913-ba4e-bded91a63e95"
   },
   "outputs": [
    {
     "data": {
      "image/png": "[encoded data removed]",
      "text/plain": [
       "<PIL.Image.Image image mode=RGB size=32x32 at 0x7FC9F0948B80>"
      ]
     },
     "execution_count": 96,
     "metadata": {},
     "output_type": "execute_result"
    }
   ],
   "source": [
    "# display a thumbnail of the image\n",
    "img.to_thumb(180)"
   ]
  },
  {
   "cell_type": "code",
   "execution_count": 97,
   "metadata": {},
   "outputs": [
    {
     "data": {
      "image/png": "[encoded data removed]",
      "text/plain": [
       "PILImage mode=RGB size=32x32"
      ]
     },
     "execution_count": 97,
     "metadata": {},
     "output_type": "execute_result"
    }
   ],
   "source": [
    "img = PILImage.create(img_files[3000])\n",
    "img"
   ]
  },
  {
   "cell_type": "markdown",
   "metadata": {},
   "source": [
    "# Define and train the model"
   ]
  },
  {
   "cell_type": "code",
   "execution_count": 100,
   "metadata": {},
   "outputs": [],
   "source": [
    "#learn = cnn_learner(dls, resnet18, pretrained=False,\n",
    "#                    loss_func=LabelSmoothingCrossEntropy(), metrics=accuracy)\n",
    "learn = cnn_learner(dls, resnet18, \n",
    "                    loss_func=LabelSmoothingCrossEntropy(), \n",
    "                    metrics=accuracy)"
   ]
  },
  {
   "cell_type": "code",
   "execution_count": 101,
   "metadata": {},
   "outputs": [
    {
     "data": {
      "text/html": [
       "<table border=\"1\" class=\"dataframe\">\n",
       "  <thead>\n",
       "    <tr style=\"text-align: left;\">\n",
       "      <th>epoch</th>\n",
       "      <th>train_loss</th>\n",
       "      <th>valid_loss</th>\n",
       "      <th>accuracy</th>\n",
       "      <th>time</th>\n",
       "    </tr>\n",
       "  </thead>\n",
       "  <tbody>\n",
       "    <tr>\n",
       "      <td>0</td>\n",
       "      <td>1.841837</td>\n",
       "      <td>1.751750</td>\n",
       "      <td>0.438600</td>\n",
       "      <td>01:24</td>\n",
       "    </tr>\n",
       "  </tbody>\n",
       "</table>"
      ],
      "text/plain": [
       "<IPython.core.display.HTML object>"
      ]
     },
     "metadata": {},
     "output_type": "display_data"
    },
    {
     "data": {
      "text/html": [
       "<table border=\"1\" class=\"dataframe\">\n",
       "  <thead>\n",
       "    <tr style=\"text-align: left;\">\n",
       "      <th>epoch</th>\n",
       "      <th>train_loss</th>\n",
       "      <th>valid_loss</th>\n",
       "      <th>accuracy</th>\n",
       "      <th>time</th>\n",
       "    </tr>\n",
       "  </thead>\n",
       "  <tbody>\n",
       "    <tr>\n",
       "      <td>0</td>\n",
       "      <td>1.270280</td>\n",
       "      <td>1.171861</td>\n",
       "      <td>0.707400</td>\n",
       "      <td>01:45</td>\n",
       "    </tr>\n",
       "    <tr>\n",
       "      <td>1</td>\n",
       "      <td>1.102574</td>\n",
       "      <td>1.063647</td>\n",
       "      <td>0.753400</td>\n",
       "      <td>01:45</td>\n",
       "    </tr>\n",
       "  </tbody>\n",
       "</table>"
      ],
      "text/plain": [
       "<IPython.core.display.HTML object>"
      ]
     },
     "metadata": {},
     "output_type": "display_data"
    },
    {
     "name": "stdout",
     "output_type": "stream",
     "text": [
      "CPU times: user 4min 46s, sys: 4.28 s, total: 4min 51s\n",
      "Wall time: 4min 56s\n"
     ]
    }
   ],
   "source": [
    "%%time\n",
    "learn.fine_tune(2)"
   ]
  },
  {
   "cell_type": "code",
   "execution_count": 58,
   "metadata": {},
   "outputs": [
    {
     "data": {
      "text/html": [
       "<table border=\"1\" class=\"dataframe\">\n",
       "  <thead>\n",
       "    <tr style=\"text-align: left;\">\n",
       "      <th>epoch</th>\n",
       "      <th>train_loss</th>\n",
       "      <th>valid_loss</th>\n",
       "      <th>accuracy</th>\n",
       "      <th>time</th>\n",
       "    </tr>\n",
       "  </thead>\n",
       "  <tbody>\n",
       "    <tr>\n",
       "      <td>0</td>\n",
       "      <td>None</td>\n",
       "      <td>None</td>\n",
       "      <td>00:00</td>\n",
       "    </tr>\n",
       "  </tbody>\n",
       "</table>"
      ],
      "text/plain": [
       "<IPython.core.display.HTML object>"
      ]
     },
     "metadata": {},
     "output_type": "display_data"
    },
    {
     "data": {
      "text/plain": [
       "Sequential (Input shape: ['32 x 3 x 32 x 32'])\n",
       "================================================================\n",
       "Layer (type)         Output Shape         Param #    Trainable \n",
       "================================================================\n",
       "Conv2d               32 x 64 x 16 x 16    9,408      True      \n",
       "________________________________________________________________\n",
       "BatchNorm2d          32 x 64 x 16 x 16    128        True      \n",
       "________________________________________________________________\n",
       "ReLU                 32 x 64 x 16 x 16    0          False     \n",
       "________________________________________________________________\n",
       "MaxPool2d            32 x 64 x 8 x 8      0          False     \n",
       "________________________________________________________________\n",
       "Conv2d               32 x 64 x 8 x 8      36,864     True      \n",
       "________________________________________________________________\n",
       "BatchNorm2d          32 x 64 x 8 x 8      128        True      \n",
       "________________________________________________________________\n",
       "ReLU                 32 x 64 x 8 x 8      0          False     \n",
       "________________________________________________________________\n",
       "Conv2d               32 x 64 x 8 x 8      36,864     True      \n",
       "________________________________________________________________\n",
       "BatchNorm2d          32 x 64 x 8 x 8      128        True      \n",
       "________________________________________________________________\n",
       "Conv2d               32 x 64 x 8 x 8      36,864     True      \n",
       "________________________________________________________________\n",
       "BatchNorm2d          32 x 64 x 8 x 8      128        True      \n",
       "________________________________________________________________\n",
       "ReLU                 32 x 64 x 8 x 8      0          False     \n",
       "________________________________________________________________\n",
       "Conv2d               32 x 64 x 8 x 8      36,864     True      \n",
       "________________________________________________________________\n",
       "BatchNorm2d          32 x 64 x 8 x 8      128        True      \n",
       "________________________________________________________________\n",
       "Conv2d               32 x 128 x 4 x 4     73,728     True      \n",
       "________________________________________________________________\n",
       "BatchNorm2d          32 x 128 x 4 x 4     256        True      \n",
       "________________________________________________________________\n",
       "ReLU                 32 x 128 x 4 x 4     0          False     \n",
       "________________________________________________________________\n",
       "Conv2d               32 x 128 x 4 x 4     147,456    True      \n",
       "________________________________________________________________\n",
       "BatchNorm2d          32 x 128 x 4 x 4     256        True      \n",
       "________________________________________________________________\n",
       "Conv2d               32 x 128 x 4 x 4     8,192      True      \n",
       "________________________________________________________________\n",
       "BatchNorm2d          32 x 128 x 4 x 4     256        True      \n",
       "________________________________________________________________\n",
       "Conv2d               32 x 128 x 4 x 4     147,456    True      \n",
       "________________________________________________________________\n",
       "BatchNorm2d          32 x 128 x 4 x 4     256        True      \n",
       "________________________________________________________________\n",
       "ReLU                 32 x 128 x 4 x 4     0          False     \n",
       "________________________________________________________________\n",
       "Conv2d               32 x 128 x 4 x 4     147,456    True      \n",
       "________________________________________________________________\n",
       "BatchNorm2d          32 x 128 x 4 x 4     256        True      \n",
       "________________________________________________________________\n",
       "Conv2d               32 x 256 x 2 x 2     294,912    True      \n",
       "________________________________________________________________\n",
       "BatchNorm2d          32 x 256 x 2 x 2     512        True      \n",
       "________________________________________________________________\n",
       "ReLU                 32 x 256 x 2 x 2     0          False     \n",
       "________________________________________________________________\n",
       "Conv2d               32 x 256 x 2 x 2     589,824    True      \n",
       "________________________________________________________________\n",
       "BatchNorm2d          32 x 256 x 2 x 2     512        True      \n",
       "________________________________________________________________\n",
       "Conv2d               32 x 256 x 2 x 2     32,768     True      \n",
       "________________________________________________________________\n",
       "BatchNorm2d          32 x 256 x 2 x 2     512        True      \n",
       "________________________________________________________________\n",
       "Conv2d               32 x 256 x 2 x 2     589,824    True      \n",
       "________________________________________________________________\n",
       "BatchNorm2d          32 x 256 x 2 x 2     512        True      \n",
       "________________________________________________________________\n",
       "ReLU                 32 x 256 x 2 x 2     0          False     \n",
       "________________________________________________________________\n",
       "Conv2d               32 x 256 x 2 x 2     589,824    True      \n",
       "________________________________________________________________\n",
       "BatchNorm2d          32 x 256 x 2 x 2     512        True      \n",
       "________________________________________________________________\n",
       "Conv2d               32 x 512 x 1 x 1     1,179,648  True      \n",
       "________________________________________________________________\n",
       "BatchNorm2d          32 x 512 x 1 x 1     1,024      True      \n",
       "________________________________________________________________\n",
       "ReLU                 32 x 512 x 1 x 1     0          False     \n",
       "________________________________________________________________\n",
       "Conv2d               32 x 512 x 1 x 1     2,359,296  True      \n",
       "________________________________________________________________\n",
       "BatchNorm2d          32 x 512 x 1 x 1     1,024      True      \n",
       "________________________________________________________________\n",
       "Conv2d               32 x 512 x 1 x 1     131,072    True      \n",
       "________________________________________________________________\n",
       "BatchNorm2d          32 x 512 x 1 x 1     1,024      True      \n",
       "________________________________________________________________\n",
       "Conv2d               32 x 512 x 1 x 1     2,359,296  True      \n",
       "________________________________________________________________\n",
       "BatchNorm2d          32 x 512 x 1 x 1     1,024      True      \n",
       "________________________________________________________________\n",
       "ReLU                 32 x 512 x 1 x 1     0          False     \n",
       "________________________________________________________________\n",
       "Conv2d               32 x 512 x 1 x 1     2,359,296  True      \n",
       "________________________________________________________________\n",
       "BatchNorm2d          32 x 512 x 1 x 1     1,024      True      \n",
       "________________________________________________________________\n",
       "AdaptiveAvgPool2d    32 x 512 x 1 x 1     0          False     \n",
       "________________________________________________________________\n",
       "AdaptiveMaxPool2d    32 x 512 x 1 x 1     0          False     \n",
       "________________________________________________________________\n",
       "Flatten              32 x 1024            0          False     \n",
       "________________________________________________________________\n",
       "BatchNorm1d          32 x 1024            2,048      True      \n",
       "________________________________________________________________\n",
       "Dropout              32 x 1024            0          False     \n",
       "________________________________________________________________\n",
       "Linear               32 x 512             524,288    True      \n",
       "________________________________________________________________\n",
       "ReLU                 32 x 512             0          False     \n",
       "________________________________________________________________\n",
       "BatchNorm1d          32 x 512             1,024      True      \n",
       "________________________________________________________________\n",
       "Dropout              32 x 512             0          False     \n",
       "________________________________________________________________\n",
       "Linear               32 x 10              5,120      True      \n",
       "________________________________________________________________\n",
       "\n",
       "Total params: 11,708,992\n",
       "Total trainable params: 11,708,992\n",
       "Total non-trainable params: 0\n",
       "\n",
       "Optimizer used: <function Adam at 0x7fca45096940>\n",
       "Loss function: LabelSmoothingCrossEntropy()\n",
       "\n",
       "Model unfrozen\n",
       "\n",
       "Callbacks:\n",
       "  - TrainEvalCallback\n",
       "  - Recorder\n",
       "  - ProgressCallback"
      ]
     },
     "execution_count": 58,
     "metadata": {},
     "output_type": "execute_result"
    }
   ],
   "source": [
    "learn.summary()"
   ]
  },
  {
   "cell_type": "markdown",
   "metadata": {},
   "source": [
    "# Try augmenting the training set"
   ]
  },
  {
   "cell_type": "code",
   "execution_count": 59,
   "metadata": {},
   "outputs": [],
   "source": [
    "# create a new DataBlock object incorporating augmentation transformations\n",
    "db2 = db.new(batch_tfms=aug_transforms())\n",
    "# create a new dataloaders object based on the new DataBlock object\n",
    "dls2 = db2.dataloaders(path/'train',bs=32)\n"
   ]
  },
  {
   "cell_type": "code",
   "execution_count": 60,
   "metadata": {},
   "outputs": [
    {
     "name": "stdout",
     "output_type": "stream",
     "text": [
      "Setting-up type transforms pipelines\n",
      "Collecting items from /storage/data/cifar10/train\n",
      "Found 50000 items\n",
      "2 datasets of sizes 40000,10000\n",
      "Setting up Pipeline: PILBase.create\n",
      "Setting up Pipeline: parent_label -> Categorize -- {'vocab': None, 'sort': True, 'add_na': False}\n",
      "\n",
      "Building one sample\n",
      "  Pipeline: PILBase.create\n",
      "    starting from\n",
      "      /storage/data/cifar10/train/truck/3702_truck.png\n",
      "    applying PILBase.create gives\n",
      "      PILImage mode=RGB size=32x32\n",
      "  Pipeline: parent_label -> Categorize -- {'vocab': None, 'sort': True, 'add_na': False}\n",
      "    starting from\n",
      "      /storage/data/cifar10/train/truck/3702_truck.png\n",
      "    applying parent_label gives\n",
      "      truck\n",
      "    applying Categorize -- {'vocab': None, 'sort': True, 'add_na': False} gives\n",
      "      TensorCategory(9)\n",
      "\n",
      "Final sample: (PILImage mode=RGB size=32x32, TensorCategory(9))\n",
      "\n",
      "\n",
      "Setting up after_item: Pipeline: ToTensor\n",
      "Setting up before_batch: Pipeline: \n",
      "Setting up after_batch: Pipeline: IntToFloatTensor -- {'div': 255.0, 'div_mask': 1} -> Flip -- {'size': None, 'mode': 'bilinear', 'pad_mode': 'reflection', 'mode_mask': 'nearest', 'align_corners': True, 'p': 0.5} -> Brightness -- {'max_lighting': 0.2, 'p': 1.0, 'draw': None, 'batch': False}\n",
      "\n",
      "Building one batch\n",
      "Applying item_tfms to the first sample:\n",
      "  Pipeline: ToTensor\n",
      "    starting from\n",
      "      (PILImage mode=RGB size=32x32, TensorCategory(9))\n",
      "    applying ToTensor gives\n",
      "      (TensorImage of size 3x32x32, TensorCategory(9))\n",
      "\n",
      "Adding the next 3 samples\n",
      "\n",
      "No before_batch transform to apply\n",
      "\n",
      "Collating items in a batch\n",
      "\n",
      "Applying batch_tfms to the batch built\n",
      "  Pipeline: IntToFloatTensor -- {'div': 255.0, 'div_mask': 1} -> Flip -- {'size': None, 'mode': 'bilinear', 'pad_mode': 'reflection', 'mode_mask': 'nearest', 'align_corners': True, 'p': 0.5} -> Brightness -- {'max_lighting': 0.2, 'p': 1.0, 'draw': None, 'batch': False}\n",
      "    starting from\n",
      "      (TensorImage of size 4x3x32x32, TensorCategory([9, 7, 9, 0], device='cuda:0'))\n",
      "    applying IntToFloatTensor -- {'div': 255.0, 'div_mask': 1} gives\n",
      "      (TensorImage of size 4x3x32x32, TensorCategory([9, 7, 9, 0], device='cuda:0'))\n",
      "    applying Flip -- {'size': None, 'mode': 'bilinear', 'pad_mode': 'reflection', 'mode_mask': 'nearest', 'align_corners': True, 'p': 0.5} gives\n",
      "      (TensorImage of size 4x3x32x32, TensorCategory([9, 7, 9, 0], device='cuda:0'))\n",
      "    applying Brightness -- {'max_lighting': 0.2, 'p': 1.0, 'draw': None, 'batch': False} gives\n",
      "      (TensorImage of size 4x3x32x32, TensorCategory([9, 7, 9, 0], device='cuda:0'))\n"
     ]
    }
   ],
   "source": [
    "db2.summary(path/\"train\")"
   ]
  },
  {
   "cell_type": "code",
   "execution_count": 61,
   "metadata": {},
   "outputs": [
    {
     "data": {
      "image/png": "[encoded data removed]",
      "text/plain": [
       "<Figure size 864x216 with 4 Axes>"
      ]
     },
     "metadata": {
      "needs_background": "light"
     },
     "output_type": "display_data"
    }
   ],
   "source": [
    "# examine a batch of the augmented training data\n",
    "dls2.train.show_batch(max_n=4, nrows=1)"
   ]
  },
  {
   "cell_type": "code",
   "execution_count": 62,
   "metadata": {},
   "outputs": [],
   "source": [
    "# define a distinct model based on the augmented dataloaders object\n",
    "learn2 = cnn_learner(dls2, resnet18, \n",
    "                    loss_func=LabelSmoothingCrossEntropy(), \n",
    "                    metrics=accuracy)"
   ]
  },
  {
   "cell_type": "code",
   "execution_count": 63,
   "metadata": {},
   "outputs": [
    {
     "data": {
      "text/html": [
       "<table border=\"1\" class=\"dataframe\">\n",
       "  <thead>\n",
       "    <tr style=\"text-align: left;\">\n",
       "      <th>epoch</th>\n",
       "      <th>train_loss</th>\n",
       "      <th>valid_loss</th>\n",
       "      <th>accuracy</th>\n",
       "      <th>time</th>\n",
       "    </tr>\n",
       "  </thead>\n",
       "  <tbody>\n",
       "    <tr>\n",
       "      <td>0</td>\n",
       "      <td>1.896246</td>\n",
       "      <td>1.729444</td>\n",
       "      <td>0.449900</td>\n",
       "      <td>01:41</td>\n",
       "    </tr>\n",
       "  </tbody>\n",
       "</table>"
      ],
      "text/plain": [
       "<IPython.core.display.HTML object>"
      ]
     },
     "metadata": {},
     "output_type": "display_data"
    },
    {
     "data": {
      "text/html": [
       "<table border=\"1\" class=\"dataframe\">\n",
       "  <thead>\n",
       "    <tr style=\"text-align: left;\">\n",
       "      <th>epoch</th>\n",
       "      <th>train_loss</th>\n",
       "      <th>valid_loss</th>\n",
       "      <th>accuracy</th>\n",
       "      <th>time</th>\n",
       "    </tr>\n",
       "  </thead>\n",
       "  <tbody>\n",
       "    <tr>\n",
       "      <td>0</td>\n",
       "      <td>1.340509</td>\n",
       "      <td>1.230048</td>\n",
       "      <td>0.684300</td>\n",
       "      <td>02:01</td>\n",
       "    </tr>\n",
       "    <tr>\n",
       "      <td>1</td>\n",
       "      <td>1.218650</td>\n",
       "      <td>1.107695</td>\n",
       "      <td>0.729200</td>\n",
       "      <td>02:01</td>\n",
       "    </tr>\n",
       "  </tbody>\n",
       "</table>"
      ],
      "text/plain": [
       "<IPython.core.display.HTML object>"
      ]
     },
     "metadata": {},
     "output_type": "display_data"
    },
    {
     "name": "stdout",
     "output_type": "stream",
     "text": [
      "CPU times: user 5min 33s, sys: 5.8 s, total: 5min 39s\n",
      "Wall time: 5min 44s\n"
     ]
    }
   ],
   "source": [
    "%%time\n",
    "learn2.fine_tune(2)"
   ]
  },
  {
   "cell_type": "code",
   "execution_count": 38,
   "metadata": {},
   "outputs": [
    {
     "data": {
      "text/html": [
       "<table border=\"1\" class=\"dataframe\">\n",
       "  <thead>\n",
       "    <tr style=\"text-align: left;\">\n",
       "      <th>epoch</th>\n",
       "      <th>train_loss</th>\n",
       "      <th>valid_loss</th>\n",
       "      <th>accuracy</th>\n",
       "      <th>time</th>\n",
       "    </tr>\n",
       "  </thead>\n",
       "  <tbody>\n",
       "    <tr>\n",
       "      <td>0</td>\n",
       "      <td>None</td>\n",
       "      <td>None</td>\n",
       "      <td>00:00</td>\n",
       "    </tr>\n",
       "  </tbody>\n",
       "</table>"
      ],
      "text/plain": [
       "<IPython.core.display.HTML object>"
      ]
     },
     "metadata": {},
     "output_type": "display_data"
    },
    {
     "data": {
      "text/plain": [
       "Sequential (Input shape: ['32 x 3 x 32 x 32'])\n",
       "================================================================\n",
       "Layer (type)         Output Shape         Param #    Trainable \n",
       "================================================================\n",
       "Conv2d               32 x 64 x 16 x 16    9,408      True      \n",
       "________________________________________________________________\n",
       "BatchNorm2d          32 x 64 x 16 x 16    128        True      \n",
       "________________________________________________________________\n",
       "ReLU                 32 x 64 x 16 x 16    0          False     \n",
       "________________________________________________________________\n",
       "MaxPool2d            32 x 64 x 8 x 8      0          False     \n",
       "________________________________________________________________\n",
       "Conv2d               32 x 64 x 8 x 8      36,864     True      \n",
       "________________________________________________________________\n",
       "BatchNorm2d          32 x 64 x 8 x 8      128        True      \n",
       "________________________________________________________________\n",
       "ReLU                 32 x 64 x 8 x 8      0          False     \n",
       "________________________________________________________________\n",
       "Conv2d               32 x 64 x 8 x 8      36,864     True      \n",
       "________________________________________________________________\n",
       "BatchNorm2d          32 x 64 x 8 x 8      128        True      \n",
       "________________________________________________________________\n",
       "Conv2d               32 x 64 x 8 x 8      36,864     True      \n",
       "________________________________________________________________\n",
       "BatchNorm2d          32 x 64 x 8 x 8      128        True      \n",
       "________________________________________________________________\n",
       "ReLU                 32 x 64 x 8 x 8      0          False     \n",
       "________________________________________________________________\n",
       "Conv2d               32 x 64 x 8 x 8      36,864     True      \n",
       "________________________________________________________________\n",
       "BatchNorm2d          32 x 64 x 8 x 8      128        True      \n",
       "________________________________________________________________\n",
       "Conv2d               32 x 128 x 4 x 4     73,728     True      \n",
       "________________________________________________________________\n",
       "BatchNorm2d          32 x 128 x 4 x 4     256        True      \n",
       "________________________________________________________________\n",
       "ReLU                 32 x 128 x 4 x 4     0          False     \n",
       "________________________________________________________________\n",
       "Conv2d               32 x 128 x 4 x 4     147,456    True      \n",
       "________________________________________________________________\n",
       "BatchNorm2d          32 x 128 x 4 x 4     256        True      \n",
       "________________________________________________________________\n",
       "Conv2d               32 x 128 x 4 x 4     8,192      True      \n",
       "________________________________________________________________\n",
       "BatchNorm2d          32 x 128 x 4 x 4     256        True      \n",
       "________________________________________________________________\n",
       "Conv2d               32 x 128 x 4 x 4     147,456    True      \n",
       "________________________________________________________________\n",
       "BatchNorm2d          32 x 128 x 4 x 4     256        True      \n",
       "________________________________________________________________\n",
       "ReLU                 32 x 128 x 4 x 4     0          False     \n",
       "________________________________________________________________\n",
       "Conv2d               32 x 128 x 4 x 4     147,456    True      \n",
       "________________________________________________________________\n",
       "BatchNorm2d          32 x 128 x 4 x 4     256        True      \n",
       "________________________________________________________________\n",
       "Conv2d               32 x 256 x 2 x 2     294,912    True      \n",
       "________________________________________________________________\n",
       "BatchNorm2d          32 x 256 x 2 x 2     512        True      \n",
       "________________________________________________________________\n",
       "ReLU                 32 x 256 x 2 x 2     0          False     \n",
       "________________________________________________________________\n",
       "Conv2d               32 x 256 x 2 x 2     589,824    True      \n",
       "________________________________________________________________\n",
       "BatchNorm2d          32 x 256 x 2 x 2     512        True      \n",
       "________________________________________________________________\n",
       "Conv2d               32 x 256 x 2 x 2     32,768     True      \n",
       "________________________________________________________________\n",
       "BatchNorm2d          32 x 256 x 2 x 2     512        True      \n",
       "________________________________________________________________\n",
       "Conv2d               32 x 256 x 2 x 2     589,824    True      \n",
       "________________________________________________________________\n",
       "BatchNorm2d          32 x 256 x 2 x 2     512        True      \n",
       "________________________________________________________________\n",
       "ReLU                 32 x 256 x 2 x 2     0          False     \n",
       "________________________________________________________________\n",
       "Conv2d               32 x 256 x 2 x 2     589,824    True      \n",
       "________________________________________________________________\n",
       "BatchNorm2d          32 x 256 x 2 x 2     512        True      \n",
       "________________________________________________________________\n",
       "Conv2d               32 x 512 x 1 x 1     1,179,648  True      \n",
       "________________________________________________________________\n",
       "BatchNorm2d          32 x 512 x 1 x 1     1,024      True      \n",
       "________________________________________________________________\n",
       "ReLU                 32 x 512 x 1 x 1     0          False     \n",
       "________________________________________________________________\n",
       "Conv2d               32 x 512 x 1 x 1     2,359,296  True      \n",
       "________________________________________________________________\n",
       "BatchNorm2d          32 x 512 x 1 x 1     1,024      True      \n",
       "________________________________________________________________\n",
       "Conv2d               32 x 512 x 1 x 1     131,072    True      \n",
       "________________________________________________________________\n",
       "BatchNorm2d          32 x 512 x 1 x 1     1,024      True      \n",
       "________________________________________________________________\n",
       "Conv2d               32 x 512 x 1 x 1     2,359,296  True      \n",
       "________________________________________________________________\n",
       "BatchNorm2d          32 x 512 x 1 x 1     1,024      True      \n",
       "________________________________________________________________\n",
       "ReLU                 32 x 512 x 1 x 1     0          False     \n",
       "________________________________________________________________\n",
       "Conv2d               32 x 512 x 1 x 1     2,359,296  True      \n",
       "________________________________________________________________\n",
       "BatchNorm2d          32 x 512 x 1 x 1     1,024      True      \n",
       "________________________________________________________________\n",
       "AdaptiveAvgPool2d    32 x 512 x 1 x 1     0          False     \n",
       "________________________________________________________________\n",
       "AdaptiveMaxPool2d    32 x 512 x 1 x 1     0          False     \n",
       "________________________________________________________________\n",
       "Flatten              32 x 1024            0          False     \n",
       "________________________________________________________________\n",
       "BatchNorm1d          32 x 1024            2,048      True      \n",
       "________________________________________________________________\n",
       "Dropout              32 x 1024            0          False     \n",
       "________________________________________________________________\n",
       "Linear               32 x 512             524,288    True      \n",
       "________________________________________________________________\n",
       "ReLU                 32 x 512             0          False     \n",
       "________________________________________________________________\n",
       "BatchNorm1d          32 x 512             1,024      True      \n",
       "________________________________________________________________\n",
       "Dropout              32 x 512             0          False     \n",
       "________________________________________________________________\n",
       "Linear               32 x 10              5,120      True      \n",
       "________________________________________________________________\n",
       "\n",
       "Total params: 11,708,992\n",
       "Total trainable params: 11,708,992\n",
       "Total non-trainable params: 0\n",
       "\n",
       "Optimizer used: <function Adam at 0x7fca45096940>\n",
       "Loss function: LabelSmoothingCrossEntropy()\n",
       "\n",
       "Model unfrozen\n",
       "\n",
       "Callbacks:\n",
       "  - TrainEvalCallback\n",
       "  - Recorder\n",
       "  - ProgressCallback"
      ]
     },
     "execution_count": 38,
     "metadata": {},
     "output_type": "execute_result"
    }
   ],
   "source": [
    "learn2.summary()"
   ]
  },
  {
   "cell_type": "markdown",
   "metadata": {},
   "source": [
    "# Examine the performance of the model\n"
   ]
  },
  {
   "cell_type": "code",
   "execution_count": 102,
   "metadata": {},
   "outputs": [
    {
     "data": {
      "text/html": [],
      "text/plain": [
       "<IPython.core.display.HTML object>"
      ]
     },
     "metadata": {},
     "output_type": "display_data"
    },
    {
     "data": {
      "text/plain": [
       "(#2) [1.0636467933654785,0.7534000277519226]"
      ]
     },
     "execution_count": 102,
     "metadata": {},
     "output_type": "execute_result"
    }
   ],
   "source": [
    "learn.validate()"
   ]
  },
  {
   "cell_type": "code",
   "execution_count": null,
   "metadata": {},
   "outputs": [],
   "source": []
  },
  {
   "cell_type": "code",
   "execution_count": 65,
   "metadata": {},
   "outputs": [
    {
     "data": {
      "image/png": "[encoded data removed]",
      "text/plain": [
       "PILImage mode=RGB size=32x32"
      ]
     },
     "execution_count": 65,
     "metadata": {},
     "output_type": "execute_result"
    }
   ],
   "source": [
    "# take a look at one of the test images\n",
    "img_test_files = get_image_files(path/\"test\")\n",
    "img2 = PILImage.create(img_test_files[700])\n",
    "img2"
   ]
  },
  {
   "cell_type": "code",
   "execution_count": 66,
   "metadata": {},
   "outputs": [
    {
     "data": {
      "image/png": "[encoded data removed]",
      "text/plain": [
       "PILImage mode=RGB size=32x32"
      ]
     },
     "execution_count": 66,
     "metadata": {},
     "output_type": "execute_result"
    }
   ],
   "source": [
    "# select an image from the test set\n",
    "img3 = PILImage.create(img_test_files[8000])\n",
    "img3"
   ]
  },
  {
   "cell_type": "code",
   "execution_count": 67,
   "metadata": {},
   "outputs": [
    {
     "data": {
      "text/html": [],
      "text/plain": [
       "<IPython.core.display.HTML object>"
      ]
     },
     "metadata": {},
     "output_type": "display_data"
    },
    {
     "data": {
      "text/plain": [
       "('horse',\n",
       " TensorImage(7),\n",
       " TensorImage([0.0064, 0.0135, 0.0128, 0.0046, 0.0067, 0.0118, 0.0060, 0.9214, 0.0076, 0.0091]))"
      ]
     },
     "execution_count": 67,
     "metadata": {},
     "output_type": "execute_result"
    }
   ],
   "source": [
    "# apply the trained model to the image\n",
    "learn.predict(img2)"
   ]
  },
  {
   "cell_type": "code",
   "execution_count": 68,
   "metadata": {},
   "outputs": [
    {
     "data": {
      "text/html": [],
      "text/plain": [
       "<IPython.core.display.HTML object>"
      ]
     },
     "metadata": {},
     "output_type": "display_data"
    },
    {
     "data": {
      "text/plain": [
       "('dog',\n",
       " TensorImage(5),\n",
       " TensorImage([0.0141, 0.0101, 0.0068, 0.1967, 0.0080, 0.7306, 0.0137, 0.0115, 0.0029, 0.0057]))"
      ]
     },
     "execution_count": 68,
     "metadata": {},
     "output_type": "execute_result"
    }
   ],
   "source": [
    "# apply the trained model to the image\n",
    "learn.predict(img3)"
   ]
  },
  {
   "cell_type": "code",
   "execution_count": 69,
   "metadata": {},
   "outputs": [
    {
     "data": {
      "text/plain": [
       "Path('/notebooks/temp/models/models/cifar_save_jun6_2021.pth')"
      ]
     },
     "execution_count": 69,
     "metadata": {},
     "output_type": "execute_result"
    }
   ],
   "source": [
    "learn.path = Path('/notebooks/temp/models')\n",
    "learn.export('cifar_jun5_2021.pkl')\n",
    "learn.save('cifar_save_jun6_2021')"
   ]
  },
  {
   "cell_type": "code",
   "execution_count": 70,
   "metadata": {},
   "outputs": [
    {
     "data": {
      "image/png": "[encoded data removed]",
      "text/plain": [
       "PILImage mode=RGB size=32x32"
      ]
     },
     "execution_count": 70,
     "metadata": {},
     "output_type": "execute_result"
    }
   ],
   "source": [
    "# select an image from the test set\n",
    "img4 = PILImage.create(img_test_files[4000])\n",
    "img4"
   ]
  },
  {
   "cell_type": "code",
   "execution_count": 71,
   "metadata": {},
   "outputs": [
    {
     "data": {
      "text/html": [],
      "text/plain": [
       "<IPython.core.display.HTML object>"
      ]
     },
     "metadata": {},
     "output_type": "display_data"
    },
    {
     "data": {
      "text/plain": [
       "('truck',\n",
       " TensorImage(9),\n",
       " TensorImage([0.0138, 0.0402, 0.0239, 0.2418, 0.0394, 0.0342, 0.0528, 0.0289, 0.0276, 0.4974]))"
      ]
     },
     "execution_count": 71,
     "metadata": {},
     "output_type": "execute_result"
    }
   ],
   "source": [
    "learn.predict(img4)"
   ]
  },
  {
   "cell_type": "code",
   "execution_count": 72,
   "metadata": {},
   "outputs": [
    {
     "data": {
      "image/png": "[encoded data removed]",
      "text/plain": [
       "PILImage mode=RGB size=32x32"
      ]
     },
     "execution_count": 72,
     "metadata": {},
     "output_type": "execute_result"
    }
   ],
   "source": [
    "# take a look at a dog image from the training dataset\n",
    "dog_files = get_image_files(path/\"train/dog\")\n",
    "dog_img = PILImage.create(dog_files[30])\n",
    "dog_img"
   ]
  },
  {
   "cell_type": "code",
   "execution_count": 74,
   "metadata": {},
   "outputs": [
    {
     "data": {
      "text/html": [],
      "text/plain": [
       "<IPython.core.display.HTML object>"
      ]
     },
     "metadata": {},
     "output_type": "display_data"
    },
    {
     "data": {
      "text/plain": [
       "('dog',\n",
       " TensorImage(5),\n",
       " TensorImage([0.0360, 0.0146, 0.0482, 0.3406, 0.0461, 0.4360, 0.0264, 0.0235, 0.0130, 0.0156]))"
      ]
     },
     "execution_count": 74,
     "metadata": {},
     "output_type": "execute_result"
    }
   ],
   "source": [
    "learn.predict(dog_img)"
   ]
  },
  {
   "cell_type": "code",
   "execution_count": 73,
   "metadata": {},
   "outputs": [
    {
     "data": {
      "image/png": "[encoded data removed]",
      "text/plain": [
       "PILImage mode=RGB size=32x32"
      ]
     },
     "execution_count": 73,
     "metadata": {},
     "output_type": "execute_result"
    }
   ],
   "source": [
    "# take a look at a cat image from the training dataset\n",
    "cat_files = get_image_files(path/\"train/cat\")\n",
    "cat_img = PILImage.create(cat_files[30])\n",
    "cat_img"
   ]
  },
  {
   "cell_type": "code",
   "execution_count": 75,
   "metadata": {},
   "outputs": [
    {
     "data": {
      "text/html": [],
      "text/plain": [
       "<IPython.core.display.HTML object>"
      ]
     },
     "metadata": {},
     "output_type": "display_data"
    },
    {
     "data": {
      "text/plain": [
       "('cat',\n",
       " TensorImage(3),\n",
       " TensorImage([0.0131, 0.0044, 0.0222, 0.7230, 0.0112, 0.1477, 0.0121, 0.0415, 0.0045, 0.0202]))"
      ]
     },
     "execution_count": 75,
     "metadata": {},
     "output_type": "execute_result"
    }
   ],
   "source": [
    "learn.predict(cat_img)"
   ]
  },
  {
   "cell_type": "code",
   "execution_count": 36,
   "metadata": {},
   "outputs": [
    {
     "data": {
      "text/html": [],
      "text/plain": [
       "<IPython.core.display.HTML object>"
      ]
     },
     "metadata": {},
     "output_type": "display_data"
    },
    {
     "data": {
      "image/png": "[encoded data removed]",
      "text/plain": [
       "<Figure size 432x288 with 1 Axes>"
      ]
     },
     "metadata": {
      "needs_background": "light"
     },
     "output_type": "display_data"
    }
   ],
   "source": [
    "interp = ClassificationInterpretation.from_learner(learn)\n",
    "interp.plot_confusion_matrix()"
   ]
  },
  {
   "cell_type": "markdown",
   "metadata": {},
   "source": [
    "# Examine the performance of the model on the test set"
   ]
  },
  {
   "cell_type": "code",
   "execution_count": 76,
   "metadata": {},
   "outputs": [],
   "source": [
    "# define a dataloader object on the test dataset\n",
    "dls_test = db.dataloaders(path/'test',bs=32)"
   ]
  },
  {
   "cell_type": "code",
   "execution_count": 77,
   "metadata": {},
   "outputs": [],
   "source": [
    "# define a learner that uses the dataloader object defined on the test dataset\n",
    "learn_test = cnn_learner(dls_test, resnet18, \n",
    "                    loss_func=LabelSmoothingCrossEntropy(), \n",
    "                    metrics=accuracy)"
   ]
  },
  {
   "cell_type": "code",
   "execution_count": 78,
   "metadata": {},
   "outputs": [
    {
     "data": {
      "text/plain": [
       "<fastai.learner.Learner at 0x7fca44fb0610>"
      ]
     },
     "execution_count": 78,
     "metadata": {},
     "output_type": "execute_result"
    }
   ],
   "source": [
    "# point the model's path to where the weights were saved and load the weights\n",
    "learn_test.path = Path('/notebooks/temp/models')\n",
    "learn_test.load('cifar_save_jun6_2021')"
   ]
  },
  {
   "cell_type": "code",
   "execution_count": 79,
   "metadata": {},
   "outputs": [
    {
     "data": {
      "text/html": [],
      "text/plain": [
       "<IPython.core.display.HTML object>"
      ]
     },
     "metadata": {},
     "output_type": "display_data"
    },
    {
     "data": {
      "text/plain": [
       "(#2) [1.043265461921692,0.7565000057220459]"
      ]
     },
     "execution_count": 79,
     "metadata": {},
     "output_type": "execute_result"
    }
   ],
   "source": [
    "learn_test.validate()"
   ]
  },
  {
   "cell_type": "code",
   "execution_count": 103,
   "metadata": {},
   "outputs": [
    {
     "data": {
      "text/html": [],
      "text/plain": [
       "<IPython.core.display.HTML object>"
      ]
     },
     "metadata": {},
     "output_type": "display_data"
    },
    {
     "data": {
      "image/png": "[encoded data removed]",
      "text/plain": [
       "<Figure size 432x288 with 1 Axes>"
      ]
     },
     "metadata": {
      "needs_background": "light"
     },
     "output_type": "display_data"
    }
   ],
   "source": [
    "# show confusion matrix for the test dataset\n",
    "interp_test = ClassificationInterpretation.from_learner(learn_test)\n",
    "interp_test.plot_confusion_matrix()"
   ]
  },
  {
   "cell_type": "code",
   "execution_count": null,
   "metadata": {},
   "outputs": [],
   "source": []
  }
 ],
 "metadata": {
  "accelerator": "GPU",
  "colab": {
   "authorship_tag": "ABX9TyNjP3TMsXzntXG+rAkIM05B",
   "collapsed_sections": [],
   "name": "examining_image_datasets.ipynb",
   "provenance": []
  },
  "kernelspec": {
   "display_name": "Python 3",
   "language": "python",
   "name": "python3"
  },
  "language_info": {
   "codemirror_mode": {
    "name": "ipython",
    "version": 3
   },
   "file_extension": ".py",
   "mimetype": "text/x-python",
   "name": "python",
   "nbconvert_exporter": "python",
   "pygments_lexer": "ipython3",
   "version": "3.8.6"
  }
 },
 "nbformat": 4,
 "nbformat_minor": 4
}
