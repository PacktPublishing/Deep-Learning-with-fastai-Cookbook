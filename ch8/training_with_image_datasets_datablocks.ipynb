{
 "cells": [
  {
   "cell_type": "markdown",
   "metadata": {
    "id": "ejRBf1w9hYbR"
   },
   "source": [
    "# Training a model with a curated image dataset in fastai with DataBlock variations\n",
    "Walkthrough of how to train a deep learning model in fastai with a curated image dataset incorporating variations based on using DataBlocks to define the data\n"
   ]
  },
  {
   "cell_type": "code",
   "execution_count": 1,
   "metadata": {
    "colab": {
     "base_uri": "https://localhost:8080/"
    },
    "executionInfo": {
     "elapsed": 10211,
     "status": "ok",
     "timestamp": 1609715957290,
     "user": {
      "displayName": "Mark Ryan",
      "photoUrl": "https://lh3.googleusercontent.com/a-/AOh14GiOaJEeoxteIdEhraqpv8y7ol-feJVt-BYY9ceTIQ=s64",
      "userId": "08045617267833954278"
     },
     "user_tz": 300
    },
    "id": "Ki-WcATwhc8y",
    "outputId": "0514a27b-0f7c-4e7c-cfe6-470efb10d800"
   },
   "outputs": [],
   "source": [
    "# imports for notebook boilerplate\n",
    "!pip install -Uqq fastbook\n",
    "import fastbook\n",
    "from fastbook import *\n",
    "from fastai.vision.all import *\n"
   ]
  },
  {
   "cell_type": "code",
   "execution_count": 2,
   "metadata": {},
   "outputs": [],
   "source": [
    "# define timestamp string for saving models\n",
    "modifier = datetime.now().strftime(\"%Y%m%d-%H%M%S\")\n",
    "# define path for saving models - update this path for your Gradient or Colab instance\n",
    "model_path = '/notebooks/temp'"
   ]
  },
  {
   "cell_type": "code",
   "execution_count": 3,
   "metadata": {
    "colab": {
     "base_uri": "https://localhost:8080/"
    },
    "executionInfo": {
     "elapsed": 32189,
     "status": "ok",
     "timestamp": 1609715997519,
     "user": {
      "displayName": "Mark Ryan",
      "photoUrl": "https://lh3.googleusercontent.com/a-/AOh14GiOaJEeoxteIdEhraqpv8y7ol-feJVt-BYY9ceTIQ=s64",
      "userId": "08045617267833954278"
     },
     "user_tz": 300
    },
    "id": "d7LkLn1jh9we",
    "outputId": "19fb5411-cc20-4f13-ba3d-b2fab9816a39"
   },
   "outputs": [],
   "source": [
    "# set up the notebook for fast.ai\n",
    "fastbook.setup_book()"
   ]
  },
  {
   "cell_type": "markdown",
   "metadata": {},
   "source": [
    "# Ingest the dataset\n",
    "- create a path object\n",
    "- defined an ImageDataLoaders object"
   ]
  },
  {
   "cell_type": "code",
   "execution_count": 4,
   "metadata": {
    "colab": {
     "base_uri": "https://localhost:8080/",
     "height": 17
    },
    "executionInfo": {
     "elapsed": 11246,
     "status": "ok",
     "timestamp": 1609716023273,
     "user": {
      "displayName": "Mark Ryan",
      "photoUrl": "https://lh3.googleusercontent.com/a-/AOh14GiOaJEeoxteIdEhraqpv8y7ol-feJVt-BYY9ceTIQ=s64",
      "userId": "08045617267833954278"
     },
     "user_tz": 300
    },
    "id": "V438-u4xiEbz",
    "outputId": "be07a2f2-5066-46a3-9b72-57f3d31d3e9b"
   },
   "outputs": [],
   "source": [
    "# ingest the curated image dataset CIFAR\n",
    "path = untar_data(URLs.CIFAR)"
   ]
  },
  {
   "cell_type": "code",
   "execution_count": 5,
   "metadata": {},
   "outputs": [
    {
     "data": {
      "text/plain": [
       "Path('/storage/data/cifar10')"
      ]
     },
     "execution_count": 5,
     "metadata": {},
     "output_type": "execute_result"
    }
   ],
   "source": [
    "path"
   ]
  },
  {
   "cell_type": "code",
   "execution_count": 6,
   "metadata": {
    "colab": {
     "base_uri": "https://localhost:8080/"
    },
    "executionInfo": {
     "elapsed": 505,
     "status": "ok",
     "timestamp": 1609716025933,
     "user": {
      "displayName": "Mark Ryan",
      "photoUrl": "https://lh3.googleusercontent.com/a-/AOh14GiOaJEeoxteIdEhraqpv8y7ol-feJVt-BYY9ceTIQ=s64",
      "userId": "08045617267833954278"
     },
     "user_tz": 300
    },
    "id": "x0sI5GXfjJtr",
    "outputId": "69145081-ad19-49ca-83ee-970a628493cd"
   },
   "outputs": [
    {
     "data": {
      "text/plain": [
       "(#3) [Path('/storage/data/cifar10/train'),Path('/storage/data/cifar10/labels.txt'),Path('/storage/data/cifar10/test')]"
      ]
     },
     "execution_count": 6,
     "metadata": {},
     "output_type": "execute_result"
    }
   ],
   "source": [
    "# examine the directory structure of the dataset\n",
    "path.ls()"
   ]
  },
  {
   "cell_type": "markdown",
   "metadata": {},
   "source": [
    "# Define a DataBlock"
   ]
  },
  {
   "cell_type": "code",
   "execution_count": 7,
   "metadata": {},
   "outputs": [],
   "source": [
    "# define a DataBlock object for the training set\n",
    "db = DataBlock(blocks = (ImageBlock, CategoryBlock),\n",
    "                 get_items=get_image_files,\n",
    "                 splitter=RandomSplitter(seed=42),\n",
    "                 get_y=parent_label)"
   ]
  },
  {
   "cell_type": "code",
   "execution_count": 8,
   "metadata": {},
   "outputs": [],
   "source": [
    "# define a dataloders object for the training set\n",
    "dls = db.dataloaders(path/'train',bs=32)"
   ]
  },
  {
   "cell_type": "code",
   "execution_count": 9,
   "metadata": {},
   "outputs": [
    {
     "name": "stdout",
     "output_type": "stream",
     "text": [
      "Setting-up type transforms pipelines\n",
      "Collecting items from /storage/data/cifar10/train\n",
      "Found 50000 items\n",
      "2 datasets of sizes 40000,10000\n",
      "Setting up Pipeline: PILBase.create\n",
      "Setting up Pipeline: parent_label -> Categorize -- {'vocab': None, 'sort': True, 'add_na': False}\n",
      "\n",
      "Building one sample\n",
      "  Pipeline: PILBase.create\n",
      "    starting from\n",
      "      /storage/data/cifar10/train/truck/3702_truck.png\n",
      "    applying PILBase.create gives\n",
      "      PILImage mode=RGB size=32x32\n",
      "  Pipeline: parent_label -> Categorize -- {'vocab': None, 'sort': True, 'add_na': False}\n",
      "    starting from\n",
      "      /storage/data/cifar10/train/truck/3702_truck.png\n",
      "    applying parent_label gives\n",
      "      truck\n",
      "    applying Categorize -- {'vocab': None, 'sort': True, 'add_na': False} gives\n",
      "      TensorCategory(9)\n",
      "\n",
      "Final sample: (PILImage mode=RGB size=32x32, TensorCategory(9))\n",
      "\n",
      "\n",
      "Setting up after_item: Pipeline: ToTensor\n",
      "Setting up before_batch: Pipeline: \n",
      "Setting up after_batch: Pipeline: IntToFloatTensor -- {'div': 255.0, 'div_mask': 1}\n",
      "\n",
      "Building one batch\n",
      "Applying item_tfms to the first sample:\n",
      "  Pipeline: ToTensor\n",
      "    starting from\n",
      "      (PILImage mode=RGB size=32x32, TensorCategory(9))\n",
      "    applying ToTensor gives\n",
      "      (TensorImage of size 3x32x32, TensorCategory(9))\n",
      "\n",
      "Adding the next 3 samples\n",
      "\n",
      "No before_batch transform to apply\n",
      "\n",
      "Collating items in a batch\n",
      "\n",
      "Applying batch_tfms to the batch built\n",
      "  Pipeline: IntToFloatTensor -- {'div': 255.0, 'div_mask': 1}\n",
      "    starting from\n",
      "      (TensorImage of size 4x3x32x32, TensorCategory([9, 7, 9, 0], device='cuda:0'))\n",
      "    applying IntToFloatTensor -- {'div': 255.0, 'div_mask': 1} gives\n",
      "      (TensorImage of size 4x3x32x32, TensorCategory([9, 7, 9, 0], device='cuda:0'))\n"
     ]
    }
   ],
   "source": [
    "# get summary for the DataBlock object with the training set\n",
    "# summary must be run on DataBlock object, not dataloaders object\n",
    "db.summary(path/\"train\")"
   ]
  },
  {
   "cell_type": "code",
   "execution_count": 10,
   "metadata": {},
   "outputs": [],
   "source": [
    "# define a DataBlock object for the test set\n",
    "db_test = DataBlock(blocks = (ImageBlock, CategoryBlock),\n",
    "                 get_items=get_image_files,\n",
    "                 splitter=RandomSplitter(valid_pct=0.99,seed=42),\n",
    "                 get_y=parent_label)"
   ]
  },
  {
   "cell_type": "code",
   "execution_count": 11,
   "metadata": {},
   "outputs": [
    {
     "name": "stdout",
     "output_type": "stream",
     "text": [
      "Setting-up type transforms pipelines\n",
      "Collecting items from /storage/data/cifar10/test\n",
      "Found 10000 items\n",
      "2 datasets of sizes 100,9900\n",
      "Setting up Pipeline: PILBase.create\n",
      "Setting up Pipeline: parent_label -> Categorize -- {'vocab': None, 'sort': True, 'add_na': False}\n",
      "\n",
      "Building one sample\n",
      "  Pipeline: PILBase.create\n",
      "    starting from\n",
      "      /storage/data/cifar10/test/airplane/1712_airplane.png\n",
      "    applying PILBase.create gives\n",
      "      PILImage mode=RGB size=32x32\n",
      "  Pipeline: parent_label -> Categorize -- {'vocab': None, 'sort': True, 'add_na': False}\n",
      "    starting from\n",
      "      /storage/data/cifar10/test/airplane/1712_airplane.png\n",
      "    applying parent_label gives\n",
      "      airplane\n",
      "    applying Categorize -- {'vocab': None, 'sort': True, 'add_na': False} gives\n",
      "      TensorCategory(0)\n",
      "\n",
      "Final sample: (PILImage mode=RGB size=32x32, TensorCategory(0))\n",
      "\n",
      "\n",
      "Setting up after_item: Pipeline: ToTensor\n",
      "Setting up before_batch: Pipeline: \n",
      "Setting up after_batch: Pipeline: IntToFloatTensor -- {'div': 255.0, 'div_mask': 1}\n",
      "\n",
      "Building one batch\n",
      "Applying item_tfms to the first sample:\n",
      "  Pipeline: ToTensor\n",
      "    starting from\n",
      "      (PILImage mode=RGB size=32x32, TensorCategory(0))\n",
      "    applying ToTensor gives\n",
      "      (TensorImage of size 3x32x32, TensorCategory(0))\n",
      "\n",
      "Adding the next 3 samples\n",
      "\n",
      "No before_batch transform to apply\n",
      "\n",
      "Collating items in a batch\n",
      "\n",
      "Applying batch_tfms to the batch built\n",
      "  Pipeline: IntToFloatTensor -- {'div': 255.0, 'div_mask': 1}\n",
      "    starting from\n",
      "      (TensorImage of size 4x3x32x32, TensorCategory([0, 6, 2, 5], device='cuda:0'))\n",
      "    applying IntToFloatTensor -- {'div': 255.0, 'div_mask': 1} gives\n",
      "      (TensorImage of size 4x3x32x32, TensorCategory([0, 6, 2, 5], device='cuda:0'))\n"
     ]
    }
   ],
   "source": [
    "# get summary for the DataBlock object with the test set\n",
    "db_test.summary(path/\"test\")"
   ]
  },
  {
   "cell_type": "markdown",
   "metadata": {},
   "source": [
    "# Examine the dataset"
   ]
  },
  {
   "cell_type": "code",
   "execution_count": 12,
   "metadata": {},
   "outputs": [
    {
     "data": {
      "image/png": "[encoded data removed]",
      "text/plain": [
       "<Figure size 864x216 with 4 Axes>"
      ]
     },
     "metadata": {
      "needs_background": "light"
     },
     "output_type": "display_data"
    }
   ],
   "source": [
    "# show a batch of training data\n",
    "dls.train.show_batch(max_n=4, nrows=1)\n"
   ]
  },
  {
   "cell_type": "code",
   "execution_count": 13,
   "metadata": {
    "colab": {
     "base_uri": "https://localhost:8080/"
    },
    "executionInfo": {
     "elapsed": 545,
     "status": "ok",
     "timestamp": 1609716033381,
     "user": {
      "displayName": "Mark Ryan",
      "photoUrl": "https://lh3.googleusercontent.com/a-/AOh14GiOaJEeoxteIdEhraqpv8y7ol-feJVt-BYY9ceTIQ=s64",
      "userId": "08045617267833954278"
     },
     "user_tz": 300
    },
    "id": "rQnVLfz3kVKE",
    "outputId": "3c2d007c-2b80-47e2-fbd8-f46a9745f58e"
   },
   "outputs": [
    {
     "data": {
      "text/plain": [
       "(#10) [Path('/storage/data/cifar10/train/horse'),Path('/storage/data/cifar10/train/dog'),Path('/storage/data/cifar10/train/ship'),Path('/storage/data/cifar10/train/frog'),Path('/storage/data/cifar10/train/truck'),Path('/storage/data/cifar10/train/deer'),Path('/storage/data/cifar10/train/airplane'),Path('/storage/data/cifar10/train/automobile'),Path('/storage/data/cifar10/train/cat'),Path('/storage/data/cifar10/train/bird')]"
      ]
     },
     "execution_count": 13,
     "metadata": {},
     "output_type": "execute_result"
    }
   ],
   "source": [
    "# examine the train subdirectory\n",
    "(path/'train').ls()"
   ]
  },
  {
   "cell_type": "code",
   "execution_count": 14,
   "metadata": {},
   "outputs": [
    {
     "data": {
      "text/plain": [
       "(#5000) [Path('/storage/data/cifar10/train/dog/26785_dog.png'),Path('/storage/data/cifar10/train/dog/47662_dog.png'),Path('/storage/data/cifar10/train/dog/48730_dog.png'),Path('/storage/data/cifar10/train/dog/40889_dog.png'),Path('/storage/data/cifar10/train/dog/24363_dog.png'),Path('/storage/data/cifar10/train/dog/44046_dog.png'),Path('/storage/data/cifar10/train/dog/26962_dog.png'),Path('/storage/data/cifar10/train/dog/19003_dog.png'),Path('/storage/data/cifar10/train/dog/47416_dog.png'),Path('/storage/data/cifar10/train/dog/31111_dog.png')...]"
      ]
     },
     "execution_count": 14,
     "metadata": {},
     "output_type": "execute_result"
    }
   ],
   "source": [
    "(path/'train/dog').ls()"
   ]
  },
  {
   "cell_type": "code",
   "execution_count": 15,
   "metadata": {},
   "outputs": [
    {
     "data": {
      "text/plain": [
       "(#5000) [Path('/storage/data/cifar10/train/cat/1845_cat.png'),Path('/storage/data/cifar10/train/cat/26087_cat.png'),Path('/storage/data/cifar10/train/cat/24817_cat.png'),Path('/storage/data/cifar10/train/cat/47541_cat.png'),Path('/storage/data/cifar10/train/cat/44852_cat.png'),Path('/storage/data/cifar10/train/cat/37669_cat.png'),Path('/storage/data/cifar10/train/cat/11236_cat.png'),Path('/storage/data/cifar10/train/cat/4329_cat.png'),Path('/storage/data/cifar10/train/cat/44859_cat.png'),Path('/storage/data/cifar10/train/cat/22425_cat.png')...]"
      ]
     },
     "execution_count": 15,
     "metadata": {},
     "output_type": "execute_result"
    }
   ],
   "source": [
    "(path/'train/cat').ls()"
   ]
  },
  {
   "cell_type": "code",
   "execution_count": 16,
   "metadata": {
    "colab": {
     "base_uri": "https://localhost:8080/",
     "height": 517
    },
    "executionInfo": {
     "elapsed": 1020,
     "status": "ok",
     "timestamp": 1609716037336,
     "user": {
      "displayName": "Mark Ryan",
      "photoUrl": "https://lh3.googleusercontent.com/a-/AOh14GiOaJEeoxteIdEhraqpv8y7ol-feJVt-BYY9ceTIQ=s64",
      "userId": "08045617267833954278"
     },
     "user_tz": 300
    },
    "id": "Qq1sw00Lk2B2",
    "outputId": "57019dd7-d51f-43ea-f7d6-73aa6a6617f4"
   },
   "outputs": [
    {
     "data": {
      "image/png": "[encoded data removed]",
      "text/plain": [
       "PILImage mode=RGB size=32x32"
      ]
     },
     "execution_count": 16,
     "metadata": {},
     "output_type": "execute_result"
    }
   ],
   "source": [
    "# take a look at one of the images\n",
    "img_files = get_image_files(path)\n",
    "img = PILImage.create(img_files[100])\n",
    "img"
   ]
  },
  {
   "cell_type": "code",
   "execution_count": 17,
   "metadata": {
    "colab": {
     "base_uri": "https://localhost:8080/",
     "height": 152
    },
    "executionInfo": {
     "elapsed": 403,
     "status": "ok",
     "timestamp": 1609716041687,
     "user": {
      "displayName": "Mark Ryan",
      "photoUrl": "https://lh3.googleusercontent.com/a-/AOh14GiOaJEeoxteIdEhraqpv8y7ol-feJVt-BYY9ceTIQ=s64",
      "userId": "08045617267833954278"
     },
     "user_tz": 300
    },
    "id": "1GwsR2sF_OVf",
    "outputId": "2712e0a6-b5c8-4913-ba4e-bded91a63e95"
   },
   "outputs": [
    {
     "data": {
      "image/png": "[encoded data removed]",
      "text/plain": [
       "<PIL.Image.Image image mode=RGB size=32x32 at 0x7FEE16F5E460>"
      ]
     },
     "execution_count": 17,
     "metadata": {},
     "output_type": "execute_result"
    }
   ],
   "source": [
    "# display a thumbnail of the image\n",
    "img.to_thumb(180)"
   ]
  },
  {
   "cell_type": "code",
   "execution_count": 18,
   "metadata": {},
   "outputs": [
    {
     "data": {
      "image/png": "[encoded data removed]",
      "text/plain": [
       "PILImage mode=RGB size=32x32"
      ]
     },
     "execution_count": 18,
     "metadata": {},
     "output_type": "execute_result"
    }
   ],
   "source": [
    "img = PILImage.create(img_files[3000])\n",
    "img"
   ]
  },
  {
   "cell_type": "markdown",
   "metadata": {},
   "source": [
    "# Define and train the model"
   ]
  },
  {
   "cell_type": "code",
   "execution_count": 19,
   "metadata": {},
   "outputs": [],
   "source": [
    "# define the model\n",
    "learn = cnn_learner(dls, resnet18, \n",
    "                    loss_func=LabelSmoothingCrossEntropy(), \n",
    "                    metrics=accuracy)"
   ]
  },
  {
   "cell_type": "code",
   "execution_count": null,
   "metadata": {},
   "outputs": [
    {
     "data": {
      "text/html": [
       "<table border=\"1\" class=\"dataframe\">\n",
       "  <thead>\n",
       "    <tr style=\"text-align: left;\">\n",
       "      <th>epoch</th>\n",
       "      <th>train_loss</th>\n",
       "      <th>valid_loss</th>\n",
       "      <th>accuracy</th>\n",
       "      <th>time</th>\n",
       "    </tr>\n",
       "  </thead>\n",
       "  <tbody>\n",
       "    <tr>\n",
       "      <td>0</td>\n",
       "      <td>1.864101</td>\n",
       "      <td>1.738718</td>\n",
       "      <td>0.445900</td>\n",
       "      <td>01:42</td>\n",
       "    </tr>\n",
       "  </tbody>\n",
       "</table>"
      ],
      "text/plain": [
       "<IPython.core.display.HTML object>"
      ]
     },
     "metadata": {},
     "output_type": "display_data"
    },
    {
     "data": {
      "image/png": "[encoded data removed]",
      "text/plain": [
       "<Figure size 432x288 with 1 Axes>"
      ]
     },
     "metadata": {},
     "output_type": "display_data"
    },
    {
     "data": {
      "text/html": [
       "\n",
       "    <div>\n",
       "        <style>\n",
       "            /* Turns off some styling */\n",
       "            progress {\n",
       "                /* gets rid of default border in Firefox and Opera. */\n",
       "                border: none;\n",
       "                /* Needs to be in here for Safari polyfill so background images work as expected. */\n",
       "                background-size: auto;\n",
       "            }\n",
       "            .progress-bar-interrupted, .progress-bar-interrupted::-webkit-progress-bar {\n",
       "                background: #F44336;\n",
       "            }\n",
       "        </style>\n",
       "      <progress value='1' class='' max='2' style='width:300px; height:20px; vertical-align: middle;'></progress>\n",
       "      50.00% [1/2 02:04<02:04]\n",
       "    </div>\n",
       "    \n",
       "<table border=\"1\" class=\"dataframe\">\n",
       "  <thead>\n",
       "    <tr style=\"text-align: left;\">\n",
       "      <th>epoch</th>\n",
       "      <th>train_loss</th>\n",
       "      <th>valid_loss</th>\n",
       "      <th>accuracy</th>\n",
       "      <th>time</th>\n",
       "    </tr>\n",
       "  </thead>\n",
       "  <tbody>\n",
       "    <tr>\n",
       "      <td>0</td>\n",
       "      <td>1.238742</td>\n",
       "      <td>1.161949</td>\n",
       "      <td>0.711800</td>\n",
       "      <td>02:04</td>\n",
       "    </tr>\n",
       "  </tbody>\n",
       "</table><p>\n",
       "\n",
       "    <div>\n",
       "        <style>\n",
       "            /* Turns off some styling */\n",
       "            progress {\n",
       "                /* gets rid of default border in Firefox and Opera. */\n",
       "                border: none;\n",
       "                /* Needs to be in here for Safari polyfill so background images work as expected. */\n",
       "                background-size: auto;\n",
       "            }\n",
       "            .progress-bar-interrupted, .progress-bar-interrupted::-webkit-progress-bar {\n",
       "                background: #F44336;\n",
       "            }\n",
       "        </style>\n",
       "      <progress value='1010' class='' max='1250' style='width:300px; height:20px; vertical-align: middle;'></progress>\n",
       "      80.80% [1010/1250 01:30<00:21 1.1116]\n",
       "    </div>\n",
       "    "
      ],
      "text/plain": [
       "<IPython.core.display.HTML object>"
      ]
     },
     "metadata": {},
     "output_type": "display_data"
    },
    {
     "data": {
      "image/png": "[encoded data removed]",
      "text/plain": [
       "<Figure size 432x288 with 1 Axes>"
      ]
     },
     "metadata": {},
     "output_type": "display_data"
    }
   ],
   "source": [
    "%%time\n",
    "learn.fine_tune(2,cbs=ShowGraphCallback())"
   ]
  },
  {
   "cell_type": "code",
   "execution_count": null,
   "metadata": {},
   "outputs": [],
   "source": [
    "learn.summary()"
   ]
  },
  {
   "cell_type": "code",
   "execution_count": null,
   "metadata": {},
   "outputs": [],
   "source": [
    "# save the model using the trick to specify a writeable directory\n",
    "save_path = learn.path\n",
    "learn.path = Path(model_path)\n",
    "learn.save('cifar_save_'+modifier)\n",
    "learn.path = save_path"
   ]
  },
  {
   "cell_type": "markdown",
   "metadata": {},
   "source": [
    "# Examine the performance of the model\n"
   ]
  },
  {
   "cell_type": "code",
   "execution_count": null,
   "metadata": {},
   "outputs": [],
   "source": [
    "learn.validate()"
   ]
  },
  {
   "cell_type": "code",
   "execution_count": null,
   "metadata": {},
   "outputs": [],
   "source": [
    "# take a look at one of the test images\n",
    "img_test_files = get_image_files(path/\"test\")\n",
    "img2 = PILImage.create(img_test_files[700])\n",
    "img2"
   ]
  },
  {
   "cell_type": "code",
   "execution_count": null,
   "metadata": {},
   "outputs": [],
   "source": [
    "# select an image from the test set\n",
    "img3 = PILImage.create(img_test_files[8000])\n",
    "img3"
   ]
  },
  {
   "cell_type": "code",
   "execution_count": null,
   "metadata": {},
   "outputs": [],
   "source": [
    "# apply the trained model to the image\n",
    "learn.predict(img2)"
   ]
  },
  {
   "cell_type": "code",
   "execution_count": null,
   "metadata": {},
   "outputs": [],
   "source": [
    "# apply the trained model to the image\n",
    "learn.predict(img3)"
   ]
  },
  {
   "cell_type": "code",
   "execution_count": null,
   "metadata": {},
   "outputs": [],
   "source": [
    "# select an image from the test set\n",
    "img4 = PILImage.create(img_test_files[4000])\n",
    "img4"
   ]
  },
  {
   "cell_type": "code",
   "execution_count": null,
   "metadata": {},
   "outputs": [],
   "source": [
    "learn.predict(img4)"
   ]
  },
  {
   "cell_type": "code",
   "execution_count": null,
   "metadata": {},
   "outputs": [],
   "source": [
    "# take a look at a dog image from the training dataset\n",
    "dog_files = get_image_files(path/\"train/dog\")\n",
    "dog_img = PILImage.create(dog_files[30])\n",
    "dog_img"
   ]
  },
  {
   "cell_type": "code",
   "execution_count": null,
   "metadata": {},
   "outputs": [],
   "source": [
    "learn.predict(dog_img)"
   ]
  },
  {
   "cell_type": "code",
   "execution_count": null,
   "metadata": {},
   "outputs": [],
   "source": [
    "# take a look at a cat image from the training dataset\n",
    "cat_files = get_image_files(path/\"train/cat\")\n",
    "cat_img = PILImage.create(cat_files[30])\n",
    "cat_img"
   ]
  },
  {
   "cell_type": "code",
   "execution_count": null,
   "metadata": {},
   "outputs": [],
   "source": [
    "learn.predict(cat_img)"
   ]
  },
  {
   "cell_type": "markdown",
   "metadata": {},
   "source": [
    "# Examine the top loss examples and confusion matrix"
   ]
  },
  {
   "cell_type": "code",
   "execution_count": null,
   "metadata": {},
   "outputs": [],
   "source": [
    "interp = ClassificationInterpretation.from_learner(learn)\n",
    "# examine the images from the training set with the biggest loss\n",
    "# losses,idxs = interp.top_losses()\n",
    "interp.plot_top_losses(9, figsize=(15,11))\n"
   ]
  },
  {
   "cell_type": "code",
   "execution_count": null,
   "metadata": {},
   "outputs": [],
   "source": [
    "# plot the confusion matrix\n",
    "interp.plot_confusion_matrix()"
   ]
  },
  {
   "cell_type": "markdown",
   "metadata": {},
   "source": [
    "# Examine the performance of the model on the test set"
   ]
  },
  {
   "cell_type": "code",
   "execution_count": null,
   "metadata": {},
   "outputs": [],
   "source": [
    "# define a dataloader object on the test dataset\n",
    "dls_test = db_test.dataloaders(path/'test',bs=32)"
   ]
  },
  {
   "cell_type": "code",
   "execution_count": null,
   "metadata": {},
   "outputs": [],
   "source": [
    "# define a learner that uses the dataloader object defined on the test dataset\n",
    "learn_test = cnn_learner(dls_test, resnet18, \n",
    "                    loss_func=LabelSmoothingCrossEntropy(), \n",
    "                    metrics=accuracy)"
   ]
  },
  {
   "cell_type": "code",
   "execution_count": null,
   "metadata": {},
   "outputs": [],
   "source": [
    "# point the model's path to where the weights were saved and load the weights\n",
    "learn_test.path = Path(model_path)\n",
    "learn_test.load('cifar_save_'+modifier)"
   ]
  },
  {
   "cell_type": "code",
   "execution_count": null,
   "metadata": {},
   "outputs": [],
   "source": [
    "learn_test.validate()"
   ]
  },
  {
   "cell_type": "code",
   "execution_count": null,
   "metadata": {},
   "outputs": [],
   "source": [
    "interp_test = ClassificationInterpretation.from_learner(learn_test)\n",
    "# examine the images from the training set with the biggest loss\n",
    "interp_test.plot_top_losses(9, figsize=(15,11))"
   ]
  },
  {
   "cell_type": "code",
   "execution_count": null,
   "metadata": {},
   "outputs": [],
   "source": [
    "# show confusion matrix for the test dataset\n",
    "interp_test.plot_confusion_matrix()"
   ]
  },
  {
   "cell_type": "code",
   "execution_count": null,
   "metadata": {},
   "outputs": [],
   "source": []
  }
 ],
 "metadata": {
  "accelerator": "GPU",
  "colab": {
   "authorship_tag": "ABX9TyNjP3TMsXzntXG+rAkIM05B",
   "collapsed_sections": [],
   "name": "examining_image_datasets.ipynb",
   "provenance": []
  },
  "kernelspec": {
   "display_name": "Python 3",
   "language": "python",
   "name": "python3"
  },
  "language_info": {
   "codemirror_mode": {
    "name": "ipython",
    "version": 3
   },
   "file_extension": ".py",
   "mimetype": "text/x-python",
   "name": "python",
   "nbconvert_exporter": "python",
   "pygments_lexer": "ipython3",
   "version": "3.8.6"
  }
 },
 "nbformat": 4,
 "nbformat_minor": 4
}
