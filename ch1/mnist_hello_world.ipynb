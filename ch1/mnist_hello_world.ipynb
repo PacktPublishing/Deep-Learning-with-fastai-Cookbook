{
 "cells": [
  {
   "cell_type": "markdown",
   "metadata": {},
   "source": [
    "# Deep learning with fast.ai cookbook - MNIST \"hello world\" example\n",
    "Minimal example using the MNIST dataset to demonstrate a minimimal, \"hello world\" type fast.ai application.\n",
    "\n",
    "Here are the fastai curated dataset choices for MNIST:\n",
    "\n",
    "**MNIST_SAMPLE**:  3s and 7s only\n",
    "~~~\n",
    "|-- train\n",
    "|   |-- 3\n",
    "|   `-- 7\n",
    "`-- valid\n",
    "    |-- 3\n",
    "    `-- 7\n",
    "~~~\n",
    "\n",
    "**MNIST_TINY**:  3s and 7s only\n",
    "~~~\n",
    "|-- models\n",
    "|-- test\n",
    "|-- train\n",
    "|   |-- 3\n",
    "|   `-- 7\n",
    "`-- valid\n",
    "    |-- 3\n",
    "    `-- 7\n",
    "~~~\n",
    "\n",
    "**MNIST_VAR_SIZE_TINY**:  3s and 7s only\n",
    "~~~\n",
    "|-- models\n",
    "|-- test\n",
    "|-- train\n",
    "|   |-- 3\n",
    "|   `-- 7\n",
    "`-- valid\n",
    "    |-- 3\n",
    "    `-- 7\n",
    "~~~\n",
    "\n",
    "**MNIST**: complete dataset\n",
    "~~~\n",
    "|-- testing\n",
    "|   |-- 0\n",
    "|   |-- 1\n",
    "|   |-- 2\n",
    "|   |-- 3\n",
    "|   |-- 4\n",
    "|   |-- 5\n",
    "|   |-- 6\n",
    "|   |-- 7\n",
    "|   |-- 8\n",
    "|   `-- 9\n",
    "`-- training\n",
    "    |-- 0\n",
    "    |-- 1\n",
    "    |-- 2\n",
    "    |-- 3\n",
    "    |-- 4\n",
    "    |-- 5\n",
    "    |-- 6\n",
    "    |-- 7\n",
    "    |-- 8\n",
    "    `-- 9\n",
    "~~~\n"
   ]
  },
  {
   "cell_type": "code",
   "execution_count": 1,
   "metadata": {},
   "outputs": [],
   "source": [
    "# imports for notebook boilerplate\n",
    "!pip install -Uqq fastbook\n",
    "import fastbook\n",
    "from fastbook import *\n",
    "from fastai.vision.all import *\n"
   ]
  },
  {
   "cell_type": "code",
   "execution_count": 2,
   "metadata": {},
   "outputs": [],
   "source": [
    "# set up the notebook for fast.ai\n",
    "fastbook.setup_book()"
   ]
  },
  {
   "cell_type": "code",
   "execution_count": 3,
   "metadata": {},
   "outputs": [],
   "source": [
    "# In Gradient, datasets get saved in /storage/data when untar_data is called \n",
    "# if the dataset has not been copied there already\n",
    "path = untar_data(URLs.MNIST)"
   ]
  },
  {
   "cell_type": "code",
   "execution_count": 4,
   "metadata": {},
   "outputs": [
    {
     "data": {
      "text/plain": [
       "(#2) [Path('/storage/data/mnist_png/training'),Path('/storage/data/mnist_png/testing')]"
      ]
     },
     "execution_count": 4,
     "metadata": {},
     "output_type": "execute_result"
    }
   ],
   "source": [
    "# examine the directory structure of the dataset\n",
    "path.ls()"
   ]
  },
  {
   "cell_type": "code",
   "execution_count": 5,
   "metadata": {},
   "outputs": [
    {
     "data": {
      "text/html": [
       "<table border=\"1\" class=\"dataframe\">\n",
       "  <thead>\n",
       "    <tr style=\"text-align: left;\">\n",
       "      <th>epoch</th>\n",
       "      <th>train_loss</th>\n",
       "      <th>valid_loss</th>\n",
       "      <th>accuracy</th>\n",
       "      <th>time</th>\n",
       "    </tr>\n",
       "  </thead>\n",
       "  <tbody>\n",
       "    <tr>\n",
       "      <td>0</td>\n",
       "      <td>0.561177</td>\n",
       "      <td>0.527106</td>\n",
       "      <td>0.989500</td>\n",
       "      <td>01:24</td>\n",
       "    </tr>\n",
       "  </tbody>\n",
       "</table>"
      ],
      "text/plain": [
       "<IPython.core.display.HTML object>"
      ]
     },
     "metadata": {},
     "output_type": "display_data"
    }
   ],
   "source": [
    "# create an image dataloaders object using the path\n",
    "# note that because of the directory structure of the dataset \n",
    "# the train and valid sets have to be explicitly specified\n",
    "# details here: https://github.com/fastai/fastai/issues/1129\n",
    "dls = ImageDataLoaders.from_folder(path, train='training', valid='testing')\n",
    "# create a learner object using the dataloaders that was just defined\n",
    "# architecture is resnet18; see https://pytorch.org/hub/pytorch_vision_resnet/\n",
    "# loss function is selected for multi class classification\n",
    "# accuracy is the metric used to optimize\n",
    "learn = cnn_learner(dls, resnet18, pretrained=False,\n",
    "                    loss_func=LabelSmoothingCrossEntropy(), metrics=accuracy)\n",
    "# fit the model for one epoch using 1cycle policy\n",
    "# see https://docs.fast.ai/callback.schedule.html#Learner.fit_one_cycle\n",
    "learn.fit_one_cycle(1, 0.1)\n",
    "\n"
   ]
  },
  {
   "cell_type": "code",
   "execution_count": 6,
   "metadata": {},
   "outputs": [
    {
     "data": {
      "image/png": "[encoded data removed]",
      "text/plain": [
       "<Figure size 864x216 with 4 Axes>"
      ]
     },
     "metadata": {
      "needs_background": "light"
     },
     "output_type": "display_data"
    }
   ],
   "source": [
    "# show a batch of training data\n",
    "dls.train.show_batch(max_n=4, nrows=1)\n"
   ]
  },
  {
   "cell_type": "code",
   "execution_count": 7,
   "metadata": {},
   "outputs": [
    {
     "data": {
      "image/png": "[encoded data removed]",
      "text/plain": [
       "<Figure size 864x216 with 4 Axes>"
      ]
     },
     "metadata": {
      "needs_background": "light"
     },
     "output_type": "display_data"
    }
   ],
   "source": [
    "# show a batch of validation data\n",
    "dls.valid.show_batch(max_n=4, nrows=1)"
   ]
  },
  {
   "cell_type": "code",
   "execution_count": 8,
   "metadata": {},
   "outputs": [
    {
     "data": {
      "image/png": "[encoded data removed]",
      "text/plain": [
       "PILImage mode=RGB size=28x28"
      ]
     },
     "execution_count": 8,
     "metadata": {},
     "output_type": "execute_result"
    }
   ],
   "source": [
    "# take a look at one of the test images\n",
    "img_files = get_image_files(path/\"testing\")\n",
    "img = PILImage.create(img_files[7000])\n",
    "img\n"
   ]
  },
  {
   "cell_type": "code",
   "execution_count": 9,
   "metadata": {},
   "outputs": [
    {
     "data": {
      "text/html": [],
      "text/plain": [
       "<IPython.core.display.HTML object>"
      ]
     },
     "metadata": {},
     "output_type": "display_data"
    },
    {
     "data": {
      "image/png": "[encoded data removed]",
      "text/plain": [
       "<Figure size 864x216 with 4 Axes>"
      ]
     },
     "metadata": {
      "needs_background": "light"
     },
     "output_type": "display_data"
    }
   ],
   "source": [
    "# show the images with the highest loss\n",
    "interp = ClassificationInterpretation.from_learner(learn)\n",
    "interp.plot_top_losses(4, nrows=1)\n"
   ]
  },
  {
   "cell_type": "code",
   "execution_count": 10,
   "metadata": {},
   "outputs": [
    {
     "data": {
      "text/html": [
       "<table border=\"1\" class=\"dataframe\">\n",
       "  <thead>\n",
       "    <tr style=\"text-align: left;\">\n",
       "      <th>epoch</th>\n",
       "      <th>train_loss</th>\n",
       "      <th>valid_loss</th>\n",
       "      <th>accuracy</th>\n",
       "      <th>time</th>\n",
       "    </tr>\n",
       "  </thead>\n",
       "  <tbody>\n",
       "    <tr>\n",
       "      <td>0</td>\n",
       "      <td>None</td>\n",
       "      <td>None</td>\n",
       "      <td>00:00</td>\n",
       "    </tr>\n",
       "  </tbody>\n",
       "</table>"
      ],
      "text/plain": [
       "<IPython.core.display.HTML object>"
      ]
     },
     "metadata": {},
     "output_type": "display_data"
    },
    {
     "data": {
      "text/plain": [
       "Sequential (Input shape: ['64 x 3 x 28 x 28'])\n",
       "================================================================\n",
       "Layer (type)         Output Shape         Param #    Trainable \n",
       "================================================================\n",
       "Conv2d               64 x 64 x 14 x 14    9,408      True      \n",
       "________________________________________________________________\n",
       "BatchNorm2d          64 x 64 x 14 x 14    128        True      \n",
       "________________________________________________________________\n",
       "ReLU                 64 x 64 x 14 x 14    0          False     \n",
       "________________________________________________________________\n",
       "MaxPool2d            64 x 64 x 7 x 7      0          False     \n",
       "________________________________________________________________\n",
       "Conv2d               64 x 64 x 7 x 7      36,864     True      \n",
       "________________________________________________________________\n",
       "BatchNorm2d          64 x 64 x 7 x 7      128        True      \n",
       "________________________________________________________________\n",
       "ReLU                 64 x 64 x 7 x 7      0          False     \n",
       "________________________________________________________________\n",
       "Conv2d               64 x 64 x 7 x 7      36,864     True      \n",
       "________________________________________________________________\n",
       "BatchNorm2d          64 x 64 x 7 x 7      128        True      \n",
       "________________________________________________________________\n",
       "Conv2d               64 x 64 x 7 x 7      36,864     True      \n",
       "________________________________________________________________\n",
       "BatchNorm2d          64 x 64 x 7 x 7      128        True      \n",
       "________________________________________________________________\n",
       "ReLU                 64 x 64 x 7 x 7      0          False     \n",
       "________________________________________________________________\n",
       "Conv2d               64 x 64 x 7 x 7      36,864     True      \n",
       "________________________________________________________________\n",
       "BatchNorm2d          64 x 64 x 7 x 7      128        True      \n",
       "________________________________________________________________\n",
       "Conv2d               64 x 128 x 4 x 4     73,728     True      \n",
       "________________________________________________________________\n",
       "BatchNorm2d          64 x 128 x 4 x 4     256        True      \n",
       "________________________________________________________________\n",
       "ReLU                 64 x 128 x 4 x 4     0          False     \n",
       "________________________________________________________________\n",
       "Conv2d               64 x 128 x 4 x 4     147,456    True      \n",
       "________________________________________________________________\n",
       "BatchNorm2d          64 x 128 x 4 x 4     256        True      \n",
       "________________________________________________________________\n",
       "Conv2d               64 x 128 x 4 x 4     8,192      True      \n",
       "________________________________________________________________\n",
       "BatchNorm2d          64 x 128 x 4 x 4     256        True      \n",
       "________________________________________________________________\n",
       "Conv2d               64 x 128 x 4 x 4     147,456    True      \n",
       "________________________________________________________________\n",
       "BatchNorm2d          64 x 128 x 4 x 4     256        True      \n",
       "________________________________________________________________\n",
       "ReLU                 64 x 128 x 4 x 4     0          False     \n",
       "________________________________________________________________\n",
       "Conv2d               64 x 128 x 4 x 4     147,456    True      \n",
       "________________________________________________________________\n",
       "BatchNorm2d          64 x 128 x 4 x 4     256        True      \n",
       "________________________________________________________________\n",
       "Conv2d               64 x 256 x 2 x 2     294,912    True      \n",
       "________________________________________________________________\n",
       "BatchNorm2d          64 x 256 x 2 x 2     512        True      \n",
       "________________________________________________________________\n",
       "ReLU                 64 x 256 x 2 x 2     0          False     \n",
       "________________________________________________________________\n",
       "Conv2d               64 x 256 x 2 x 2     589,824    True      \n",
       "________________________________________________________________\n",
       "BatchNorm2d          64 x 256 x 2 x 2     512        True      \n",
       "________________________________________________________________\n",
       "Conv2d               64 x 256 x 2 x 2     32,768     True      \n",
       "________________________________________________________________\n",
       "BatchNorm2d          64 x 256 x 2 x 2     512        True      \n",
       "________________________________________________________________\n",
       "Conv2d               64 x 256 x 2 x 2     589,824    True      \n",
       "________________________________________________________________\n",
       "BatchNorm2d          64 x 256 x 2 x 2     512        True      \n",
       "________________________________________________________________\n",
       "ReLU                 64 x 256 x 2 x 2     0          False     \n",
       "________________________________________________________________\n",
       "Conv2d               64 x 256 x 2 x 2     589,824    True      \n",
       "________________________________________________________________\n",
       "BatchNorm2d          64 x 256 x 2 x 2     512        True      \n",
       "________________________________________________________________\n",
       "Conv2d               64 x 512 x 1 x 1     1,179,648  True      \n",
       "________________________________________________________________\n",
       "BatchNorm2d          64 x 512 x 1 x 1     1,024      True      \n",
       "________________________________________________________________\n",
       "ReLU                 64 x 512 x 1 x 1     0          False     \n",
       "________________________________________________________________\n",
       "Conv2d               64 x 512 x 1 x 1     2,359,296  True      \n",
       "________________________________________________________________\n",
       "BatchNorm2d          64 x 512 x 1 x 1     1,024      True      \n",
       "________________________________________________________________\n",
       "Conv2d               64 x 512 x 1 x 1     131,072    True      \n",
       "________________________________________________________________\n",
       "BatchNorm2d          64 x 512 x 1 x 1     1,024      True      \n",
       "________________________________________________________________\n",
       "Conv2d               64 x 512 x 1 x 1     2,359,296  True      \n",
       "________________________________________________________________\n",
       "BatchNorm2d          64 x 512 x 1 x 1     1,024      True      \n",
       "________________________________________________________________\n",
       "ReLU                 64 x 512 x 1 x 1     0          False     \n",
       "________________________________________________________________\n",
       "Conv2d               64 x 512 x 1 x 1     2,359,296  True      \n",
       "________________________________________________________________\n",
       "BatchNorm2d          64 x 512 x 1 x 1     1,024      True      \n",
       "________________________________________________________________\n",
       "AdaptiveAvgPool2d    64 x 512 x 1 x 1     0          False     \n",
       "________________________________________________________________\n",
       "AdaptiveMaxPool2d    64 x 512 x 1 x 1     0          False     \n",
       "________________________________________________________________\n",
       "Flatten              64 x 1024            0          False     \n",
       "________________________________________________________________\n",
       "BatchNorm1d          64 x 1024            2,048      True      \n",
       "________________________________________________________________\n",
       "Dropout              64 x 1024            0          False     \n",
       "________________________________________________________________\n",
       "Linear               64 x 512             524,288    True      \n",
       "________________________________________________________________\n",
       "ReLU                 64 x 512             0          False     \n",
       "________________________________________________________________\n",
       "BatchNorm1d          64 x 512             1,024      True      \n",
       "________________________________________________________________\n",
       "Dropout              64 x 512             0          False     \n",
       "________________________________________________________________\n",
       "Linear               64 x 10              5,120      True      \n",
       "________________________________________________________________\n",
       "\n",
       "Total params: 11,708,992\n",
       "Total trainable params: 11,708,992\n",
       "Total non-trainable params: 0\n",
       "\n",
       "Optimizer used: <function Adam at 0x7fd288437940>\n",
       "Loss function: LabelSmoothingCrossEntropy()\n",
       "\n",
       "Model unfrozen\n",
       "\n",
       "Callbacks:\n",
       "  - TrainEvalCallback\n",
       "  - Recorder\n",
       "  - ProgressCallback"
      ]
     },
     "execution_count": 10,
     "metadata": {},
     "output_type": "execute_result"
    }
   ],
   "source": [
    "# examine the model, including its layers\n",
    "learn.summary()"
   ]
  },
  {
   "cell_type": "code",
   "execution_count": 11,
   "metadata": {},
   "outputs": [
    {
     "data": {
      "image/png": "[encoded data removed]",
      "text/plain": [
       "PILImage mode=RGB size=28x28"
      ]
     },
     "execution_count": 11,
     "metadata": {},
     "output_type": "execute_result"
    }
   ],
   "source": [
    "# select an image from the test set\n",
    "img = PILImage.create(img_files[0])\n",
    "img"
   ]
  },
  {
   "cell_type": "code",
   "execution_count": 12,
   "metadata": {},
   "outputs": [
    {
     "data": {
      "text/html": [],
      "text/plain": [
       "<IPython.core.display.HTML object>"
      ]
     },
     "metadata": {},
     "output_type": "display_data"
    },
    {
     "data": {
      "text/plain": [
       "('8',\n",
       " TensorImage(8),\n",
       " TensorImage([0.0053, 0.0071, 0.0103, 0.0074, 0.0063, 0.0058, 0.0070, 0.0085, 0.9369, 0.0054]))"
      ]
     },
     "execution_count": 12,
     "metadata": {},
     "output_type": "execute_result"
    }
   ],
   "source": [
    "# apply the trained model to the image\n",
    "learn.predict(img)"
   ]
  },
  {
   "cell_type": "code",
   "execution_count": 13,
   "metadata": {},
   "outputs": [
    {
     "data": {
      "image/png": "[encoded data removed]",
      "text/plain": [
       "PILImage mode=RGB size=28x28"
      ]
     },
     "execution_count": 13,
     "metadata": {},
     "output_type": "execute_result"
    }
   ],
   "source": [
    "# select a different test set image and apply the model to it to get a prediction\n",
    "img = PILImage.create(img_files[2030])\n",
    "img"
   ]
  },
  {
   "cell_type": "code",
   "execution_count": 14,
   "metadata": {},
   "outputs": [
    {
     "data": {
      "text/html": [],
      "text/plain": [
       "<IPython.core.display.HTML object>"
      ]
     },
     "metadata": {},
     "output_type": "display_data"
    },
    {
     "data": {
      "text/plain": [
       "('9',\n",
       " TensorImage(9),\n",
       " TensorImage([0.0108, 0.0098, 0.0113, 0.0107, 0.0126, 0.0100, 0.0103, 0.0187, 0.0118, 0.8939]))"
      ]
     },
     "execution_count": 14,
     "metadata": {},
     "output_type": "execute_result"
    }
   ],
   "source": [
    "learn.predict(img)"
   ]
  },
  {
   "cell_type": "code",
   "execution_count": 15,
   "metadata": {},
   "outputs": [
    {
     "data": {
      "image/png": "[encoded data removed]",
      "text/plain": [
       "PILImage mode=RGB size=28x28"
      ]
     },
     "execution_count": 15,
     "metadata": {},
     "output_type": "execute_result"
    }
   ],
   "source": [
    "# select a different image and apply the model to it to get a prediction\n",
    "img = PILImage.create(img_files[5800])\n",
    "img"
   ]
  },
  {
   "cell_type": "code",
   "execution_count": 16,
   "metadata": {},
   "outputs": [
    {
     "data": {
      "text/html": [],
      "text/plain": [
       "<IPython.core.display.HTML object>"
      ]
     },
     "metadata": {},
     "output_type": "display_data"
    },
    {
     "data": {
      "text/plain": [
       "('1',\n",
       " TensorImage(1),\n",
       " TensorImage([0.0075, 0.9104, 0.0107, 0.0090, 0.0103, 0.0086, 0.0105, 0.0120, 0.0108, 0.0101]))"
      ]
     },
     "execution_count": 16,
     "metadata": {},
     "output_type": "execute_result"
    }
   ],
   "source": [
    "learn.predict(img)"
   ]
  }
 ],
 "metadata": {
  "jupytext": {
   "split_at_heading": true
  },
  "kernelspec": {
   "display_name": "Python 3",
   "language": "python",
   "name": "python3"
  },
  "language_info": {
   "codemirror_mode": {
    "name": "ipython",
    "version": 3
   },
   "file_extension": ".py",
   "mimetype": "text/x-python",
   "name": "python",
   "nbconvert_exporter": "python",
   "pygments_lexer": "ipython3",
   "version": "3.8.6"
  }
 },
 "nbformat": 4,
 "nbformat_minor": 4
}
