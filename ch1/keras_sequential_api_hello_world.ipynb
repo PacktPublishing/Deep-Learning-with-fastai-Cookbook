{
 "cells": [
  {
   "cell_type": "markdown",
   "metadata": {},
   "source": [
    "# Keras sequential API \"hello world\" model for MNIST\n",
    "adapted from https://github.com/tensorflow/docs/blob/master/site/en/tutorials/quickstart/beginner.ipynb"
   ]
  },
  {
   "cell_type": "code",
   "execution_count": 1,
   "metadata": {},
   "outputs": [],
   "source": [
    "#import required libraries\n",
    "\n",
    "import tensorflow as tf\n",
    "import pydotplus\n",
    "from tensorflow.keras.utils import plot_model"
   ]
  },
  {
   "cell_type": "code",
   "execution_count": 2,
   "metadata": {},
   "outputs": [],
   "source": [
    "# define dataset\n",
    "mnist = tf.keras.datasets.mnist\n",
    "(x_train, y_train), (x_test, y_test) = mnist.load_data()\n",
    "x_train, x_test = x_train / 255.0, x_test / 255.0"
   ]
  },
  {
   "cell_type": "code",
   "execution_count": 3,
   "metadata": {},
   "outputs": [
    {
     "name": "stdout",
     "output_type": "stream",
     "text": [
      "WARNING:tensorflow:From c:\\users\\ryanm\\appdata\\local\\programs\\python\\python37\\lib\\site-packages\\tensorflow_core\\python\\ops\\resource_variable_ops.py:1630: calling BaseResourceVariable.__init__ (from tensorflow.python.ops.resource_variable_ops) with constraint is deprecated and will be removed in a future version.\n",
      "Instructions for updating:\n",
      "If using Keras pass *_constraint arguments to layers.\n"
     ]
    }
   ],
   "source": [
    "# define layers for the hello world model\n",
    "\n",
    "hello_world_model = tf.keras.models.Sequential([ \n",
    "  tf.keras.layers.Flatten(input_shape=(28, 28)), \n",
    "  tf.keras.layers.Dense(128, activation='relu'), \n",
    "  tf.keras.layers.Dropout(0.15), \n",
    "  tf.keras.layers.Dense(10) \n",
    "])"
   ]
  },
  {
   "cell_type": "code",
   "execution_count": 4,
   "metadata": {},
   "outputs": [
    {
     "name": "stdout",
     "output_type": "stream",
     "text": [
      "Train on 51000 samples, validate on 9000 samples\n",
      "Epoch 1/10\n",
      "51000/51000 [==============================] - 7s 138us/sample - loss: 0.3479 - acc: 0.9011 - val_loss: 0.1577 - val_acc: 0.9572\n",
      "Epoch 2/10\n",
      "51000/51000 [==============================] - 8s 154us/sample - loss: 0.1603 - acc: 0.9534 - val_loss: 0.1117 - val_acc: 0.9679\n",
      "Epoch 3/10\n",
      "51000/51000 [==============================] - 5s 96us/sample - loss: 0.1194 - acc: 0.9647 - val_loss: 0.0946 - val_acc: 0.9730\n",
      "Epoch 4/10\n",
      "51000/51000 [==============================] - 5s 99us/sample - loss: 0.0955 - acc: 0.9706 - val_loss: 0.0859 - val_acc: 0.9748\n",
      "Epoch 5/10\n",
      "51000/51000 [==============================] - 8s 158us/sample - loss: 0.0801 - acc: 0.9753 - val_loss: 0.0817 - val_acc: 0.9748\n",
      "Epoch 6/10\n",
      "51000/51000 [==============================] - 7s 135us/sample - loss: 0.0700 - acc: 0.9785 - val_loss: 0.0735 - val_acc: 0.9767\n",
      "Epoch 7/10\n",
      "51000/51000 [==============================] - 6s 116us/sample - loss: 0.0600 - acc: 0.9815 - val_loss: 0.0706 - val_acc: 0.9784\n",
      "Epoch 8/10\n",
      "51000/51000 [==============================] - 5s 107us/sample - loss: 0.0525 - acc: 0.9833 - val_loss: 0.0769 - val_acc: 0.9776\n",
      "Epoch 9/10\n",
      "51000/51000 [==============================] - 5s 94us/sample - loss: 0.0464 - acc: 0.9851 - val_loss: 0.0692 - val_acc: 0.9791\n",
      "Epoch 10/10\n",
      "51000/51000 [==============================] - 5s 95us/sample - loss: 0.0432 - acc: 0.9856 - val_loss: 0.0740 - val_acc: 0.9777\n",
      "10000/10000 - 1s - loss: 0.0759 - acc: 0.9775\n",
      "Loss for test dataset: 0.07588852692145155\n",
      "Accuracy for test dataset: 0.9775\n"
     ]
    }
   ],
   "source": [
    "# compile the hello world model, including specifying the loss function, optimizer, and metrics\n",
    "\n",
    "hello_world_model.compile(optimizer='adam',\n",
    "              loss=tf.keras.losses.SparseCategoricalCrossentropy(from_logits=True),\n",
    "              metrics=['accuracy']) \n",
    "\n",
    "# train model\n",
    "\n",
    "history = hello_world_model.fit(x_train, y_train,\n",
    "                    batch_size=64,\n",
    "                    epochs=10,\n",
    "                    validation_split=0.15)\n",
    "\n",
    "# assess performance of the model\n",
    "                    \n",
    "test_scores = hello_world_model.evaluate(x_test,  y_test, verbose=2) \n",
    "print('Loss for test dataset:', test_scores[0])\n",
    "print('Accuracy for test dataset:', test_scores[1])\n"
   ]
  },
  {
   "cell_type": "code",
   "execution_count": 5,
   "metadata": {},
   "outputs": [
    {
     "name": "stdout",
     "output_type": "stream",
     "text": [
      "10000/10000 - 1s - loss: 0.0759 - acc: 0.9775\n",
      "Loss for test dataset: 0.07588852692145155\n",
      "Accuracy for test dataset: 0.9775\n"
     ]
    }
   ],
   "source": [
    "# assess performance of the model on the test set\n",
    "                    \n",
    "test_scores = hello_world_model.evaluate(x_test,  y_test, verbose=2) \n",
    "print('Loss for test dataset:', test_scores[0])\n",
    "print('Accuracy for test dataset:', test_scores[1])"
   ]
  },
  {
   "cell_type": "code",
   "execution_count": null,
   "metadata": {},
   "outputs": [],
   "source": []
  }
 ],
 "metadata": {
  "kernelspec": {
   "display_name": "Python 3",
   "language": "python",
   "name": "python3"
  },
  "language_info": {
   "codemirror_mode": {
    "name": "ipython",
    "version": 3
   },
   "file_extension": ".py",
   "mimetype": "text/x-python",
   "name": "python",
   "nbconvert_exporter": "python",
   "pygments_lexer": "ipython3",
   "version": "3.8.6"
  }
 },
 "nbformat": 4,
 "nbformat_minor": 4
}
