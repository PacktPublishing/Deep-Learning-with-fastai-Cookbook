{
 "cells": [
  {
   "cell_type": "markdown",
   "metadata": {},
   "source": [
    "# Training a text classifier model on a standalone dataset with fastai\n",
    "- This notebook ingests the Kaggle Covid tweets dataset (https://www.kaggle.com/datatattle/covid-19-nlp-text-classification)\n",
    "- This notebook assumes you have already run text_standalone_dataset_lm.ipynb notebook to create a language model\n",
    "- The encoder from the language model is used to create the text classifier"
   ]
  },
  {
   "cell_type": "code",
   "execution_count": 13,
   "metadata": {},
   "outputs": [],
   "source": [
    "#hide\n",
    "!pip install -Uqq fastbook\n",
    "import fastbook\n",
    "fastbook.setup_book()"
   ]
  },
  {
   "cell_type": "code",
   "execution_count": 14,
   "metadata": {},
   "outputs": [],
   "source": [
    "#hide\n",
    "from fastbook import *\n",
    "from fastai.text.all import *"
   ]
  },
  {
   "cell_type": "code",
   "execution_count": 15,
   "metadata": {},
   "outputs": [],
   "source": [
    "modifier = 'standalone_mar20'"
   ]
  },
  {
   "cell_type": "markdown",
   "metadata": {},
   "source": [
    "# Ingest the dataset\n",
    "- define the path for the dataset\n",
    "- create a TextDataLoaders object"
   ]
  },
  {
   "cell_type": "code",
   "execution_count": 16,
   "metadata": {},
   "outputs": [
    {
     "name": "stdout",
     "output_type": "stream",
     "text": [
      "CPU times: user 0 ns, sys: 3.81 ms, total: 3.81 ms\n",
      "Wall time: 3.24 ms\n"
     ]
    },
    {
     "data": {
      "text/plain": [
       "(#2) [Path('/storage/archive/covid_tweets/train'),Path('/storage/archive/covid_tweets/test')]"
      ]
     },
     "execution_count": 16,
     "metadata": {},
     "output_type": "execute_result"
    }
   ],
   "source": [
    "%%time\n",
    "# create dataloaders object\n",
    "path = URLs.path('covid_tweets')\n",
    "path.ls()"
   ]
  },
  {
   "cell_type": "code",
   "execution_count": 17,
   "metadata": {},
   "outputs": [],
   "source": [
    "# read the training CSV into a dataframe - note that the encoding parameter is needed to avoid a decode error\n",
    "df_train = pd.read_csv(path/'train/Corona_NLP_train.csv',encoding = \"ISO-8859-1\")"
   ]
  },
  {
   "cell_type": "markdown",
   "metadata": {},
   "source": [
    "# Define the text classifier"
   ]
  },
  {
   "cell_type": "code",
   "execution_count": 18,
   "metadata": {},
   "outputs": [
    {
     "data": {
      "text/html": [],
      "text/plain": [
       "<IPython.core.display.HTML object>"
      ]
     },
     "metadata": {},
     "output_type": "display_data"
    },
    {
     "data": {
      "text/html": [
       "<table border=\"1\" class=\"dataframe\">\n",
       "  <thead>\n",
       "    <tr style=\"text-align: right;\">\n",
       "      <th></th>\n",
       "      <th>text</th>\n",
       "      <th>category</th>\n",
       "    </tr>\n",
       "  </thead>\n",
       "  <tbody>\n",
       "    <tr>\n",
       "      <th>0</th>\n",
       "      <td>xxbos xxrep 5 ? ? ? xxrep 7 ? ? ? xxrep 7 ? xxrep 4 ? xxrep 4 ? xxrep 11 ? ? ? xxrep 6 ? xxrep 4 ? , xxrep 3 ? xxrep 3 ? ? ? xxrep 3 ? xxrep 4 ? xxrep 3 ? ? ? ? ? xxrep 4 ? ? ? xxrep 3 ? , xxrep 4 ? ? ? ? ? xxrep 6 ? xxrep 3 ? xxrep 3 ? xxrep 3 ? ? ? xxrep 3 ? \\r\\r\\n▁ xxrep 5 ? xxrep 6 ? ? ? xxrep 3 ? xxrep 4 ? xxrep 4 ? ? ? xxrep 4 ? xxrep 6 ? xxrep 4 ? xxrep 8 ? ? ? xxrep 6 ? ? ? xxrep 5 ? ? ? xxrep 3 ? xxrep 4 ? ? ? xxrep 7 ? xxrep 5 ? - xxrep 8 ? xxrep 5</td>\n",
       "      <td>Neutral</td>\n",
       "    </tr>\n",
       "    <tr>\n",
       "      <th>1</th>\n",
       "      <td>xxbos xxmaj fun xxmaj riding 4 xxmaj xxunk , xxmaj shield xxmaj bash # xxmaj cod # callofduty # xxmaj practice # xxmaj xxunk # xxmaj xxunk # xxmaj recreation # xxmaj fun # xxmaj bored # todo # xxmaj coronavirus # xxmaj quarantine # xxmaj isolation # toiletpaper # xxmaj lockdown # xxmaj art # xxmaj milk # xxmaj water # xxmaj xxunk # xxmaj weather # xxmaj cleveland # xxmaj ohio # xxmaj browns # xxup nfl # xxmaj xxunk # xxmaj poetry \\r\\r\\n https : / / t.co / xxunk via @youtube</td>\n",
       "      <td>Positive</td>\n",
       "    </tr>\n",
       "    <tr>\n",
       "      <th>2</th>\n",
       "      <td>xxbos xxmaj friends ! xxmaj it 's xxmaj march 25 , 2020 at 03:00pm- time to xxup stop xxup renting &amp; &amp; buy a # home from # realtor xxmaj kally ( khoelcher ( at ) gmail ( dot ) com ) of # xxmaj goodyear # xxmaj arizona # coldwellbanker ( 269)240 - 8824 . # xxup n95 masks , # gloves , &amp; &amp; hand # sanitizer provided to xxup prevent # coronavirus . # xxmaj avondale # xxmaj buckeye # â ",
       "▁ https : / / t.co / xxunk</td>\n",
       "      <td>Extremely Positive</td>\n",
       "    </tr>\n",
       "  </tbody>\n",
       "</table>"
      ],
      "text/plain": [
       "<IPython.core.display.HTML object>"
      ]
     },
     "metadata": {},
     "output_type": "display_data"
    },
    {
     "name": "stdout",
     "output_type": "stream",
     "text": [
      "CPU times: user 52.2 s, sys: 1.35 s, total: 53.5 s\n",
      "Wall time: 56.9 s\n"
     ]
    }
   ],
   "source": [
    "%%time\n",
    "# create TextDataLoaders object\n",
    "dls = TextDataLoaders.from_df(df_train, path=path, text_col='OriginalTweet',label_col='Sentiment')\n",
    "dls.show_batch(max_n=3)"
   ]
  },
  {
   "cell_type": "code",
   "execution_count": 19,
   "metadata": {},
   "outputs": [
    {
     "data": {
      "text/plain": [
       "Path('/storage/archive/covid_tweets')"
      ]
     },
     "execution_count": 19,
     "metadata": {},
     "output_type": "execute_result"
    }
   ],
   "source": [
    "dls.path"
   ]
  },
  {
   "cell_type": "code",
   "execution_count": 20,
   "metadata": {},
   "outputs": [
    {
     "name": "stdout",
     "output_type": "stream",
     "text": [
      "keep_path is:  /storage/archive/covid_tweets\n"
     ]
    }
   ],
   "source": [
    "# save the current path\n",
    "keep_path = path\n",
    "print(\"keep_path is: \",str(keep_path))"
   ]
  },
  {
   "cell_type": "code",
   "execution_count": 21,
   "metadata": {},
   "outputs": [
    {
     "name": "stdout",
     "output_type": "stream",
     "text": [
      "CPU times: user 5.07 s, sys: 834 ms, total: 5.91 s\n",
      "Wall time: 1.13 s\n"
     ]
    }
   ],
   "source": [
    "%%time\n",
    "# define a text_classifier_learner object\n",
    "learn_clas = text_classifier_learner(dls, AWD_LSTM, \n",
    "                                metrics=accuracy).to_fp16()"
   ]
  },
  {
   "cell_type": "markdown",
   "metadata": {},
   "source": [
    "# Fine-tune the text classifier\n",
    "Use the encoder created as part of training the language model to fine tune the text classifier"
   ]
  },
  {
   "cell_type": "code",
   "execution_count": 22,
   "metadata": {},
   "outputs": [
    {
     "data": {
      "text/plain": [
       "Path('/storage/archive/covid_tweets')"
      ]
     },
     "execution_count": 22,
     "metadata": {},
     "output_type": "execute_result"
    }
   ],
   "source": [
    "# Path('/storage/data/imdb')\n",
    "learn_clas.path"
   ]
  },
  {
   "cell_type": "code",
   "execution_count": 23,
   "metadata": {},
   "outputs": [
    {
     "name": "stdout",
     "output_type": "stream",
     "text": [
      "CPU times: user 277 µs, sys: 17 µs, total: 294 µs\n",
      "Wall time: 49.4 µs\n"
     ]
    }
   ],
   "source": [
    "%%time\n",
    "# set the path to the location of the encoder\n",
    "learn_clas.path = Path('/notebooks/temp')"
   ]
  },
  {
   "cell_type": "code",
   "execution_count": 24,
   "metadata": {},
   "outputs": [],
   "source": [
    "# load the encoder that was saved when the language model was trained\n",
    "learn_clas = learn_clas.load_encoder('ft_standalone'+modifier)"
   ]
  },
  {
   "cell_type": "code",
   "execution_count": 25,
   "metadata": {},
   "outputs": [
    {
     "data": {
      "text/plain": [
       "Path('/notebooks/temp')"
      ]
     },
     "execution_count": 25,
     "metadata": {},
     "output_type": "execute_result"
    }
   ],
   "source": [
    "learn_clas.path"
   ]
  },
  {
   "cell_type": "code",
   "execution_count": 26,
   "metadata": {},
   "outputs": [],
   "source": [
    "# set the path back to the original path\n",
    "learn_clas.path = keep_path"
   ]
  },
  {
   "cell_type": "code",
   "execution_count": 27,
   "metadata": {},
   "outputs": [
    {
     "data": {
      "text/plain": [
       "Path('/storage/archive/covid_tweets')"
      ]
     },
     "execution_count": 27,
     "metadata": {},
     "output_type": "execute_result"
    }
   ],
   "source": [
    "# ch 10 style Path('/storage/data/imdb')\n",
    "learn_clas.path"
   ]
  },
  {
   "cell_type": "code",
   "execution_count": 28,
   "metadata": {},
   "outputs": [
    {
     "data": {
      "text/html": [
       "<table border=\"1\" class=\"dataframe\">\n",
       "  <thead>\n",
       "    <tr style=\"text-align: left;\">\n",
       "      <th>epoch</th>\n",
       "      <th>train_loss</th>\n",
       "      <th>valid_loss</th>\n",
       "      <th>accuracy</th>\n",
       "      <th>time</th>\n",
       "    </tr>\n",
       "  </thead>\n",
       "  <tbody>\n",
       "    <tr>\n",
       "      <td>0</td>\n",
       "      <td>1.461614</td>\n",
       "      <td>1.281477</td>\n",
       "      <td>0.453286</td>\n",
       "      <td>00:37</td>\n",
       "    </tr>\n",
       "  </tbody>\n",
       "</table>"
      ],
      "text/plain": [
       "<IPython.core.display.HTML object>"
      ]
     },
     "metadata": {},
     "output_type": "display_data"
    },
    {
     "name": "stdout",
     "output_type": "stream",
     "text": [
      "CPU times: user 29.9 s, sys: 7.19 s, total: 37.1 s\n",
      "Wall time: 37.4 s\n"
     ]
    }
   ],
   "source": [
    "%%time\n",
    "# fine tune the model\n",
    "learn_clas.fit_one_cycle(1, 2e-2)"
   ]
  },
  {
   "cell_type": "code",
   "execution_count": 29,
   "metadata": {},
   "outputs": [
    {
     "data": {
      "text/plain": [
       "(torch.Size([64, 166]), torch.Size([64]), 514)"
      ]
     },
     "execution_count": 29,
     "metadata": {},
     "output_type": "execute_result"
    }
   ],
   "source": [
    "x, y = first(dls.train)\n",
    "x.shape, y.shape, len(dls.train)"
   ]
  },
  {
   "cell_type": "code",
   "execution_count": 30,
   "metadata": {},
   "outputs": [
    {
     "data": {
      "text/html": [
       "<table border=\"1\" class=\"dataframe\">\n",
       "  <thead>\n",
       "    <tr style=\"text-align: right;\">\n",
       "      <th></th>\n",
       "      <th>text</th>\n",
       "      <th>category</th>\n",
       "    </tr>\n",
       "  </thead>\n",
       "  <tbody>\n",
       "    <tr>\n",
       "      <th>0</th>\n",
       "      <td>xxbos xxrep 5 ? ? ? xxrep 7 ? ? ? xxrep 7 ? xxrep 4 ? xxrep 4 ? xxrep 11 ? ? ? xxrep 6 ? xxrep 4 ? , xxrep 3 ? xxrep 3 ? ? ? xxrep 3 ? xxrep 4 ? xxrep 3 ? ? ? ? ? xxrep 4 ? ? ? xxrep 3 ? , xxrep 4 ? ? ? ? ? xxrep 6 ? xxrep 3 ? xxrep 3 ? xxrep 3 ? ? ? xxrep 3 ? \\r\\r\\n▁ xxrep 5 ? xxrep 6 ? ? ? xxrep 3 ? xxrep 4 ? xxrep 4 ? ? ? xxrep 4 ? xxrep 6 ? xxrep 4 ? xxrep 8 ? ? ? xxrep 6 ? ? ? xxrep 5 ? ? ? xxrep 3 ? xxrep 4 ? ? ? xxrep 7 ? xxrep 5 ? - xxrep 8 ? xxrep 5</td>\n",
       "      <td>Neutral</td>\n",
       "    </tr>\n",
       "    <tr>\n",
       "      <th>1</th>\n",
       "      <td>xxbos xxmaj dr xxmaj xxunk xxmaj mirza : xxup mbbs - xxup rmc xxmaj pakistan \\r\\r\\n msc xxmaj public xxmaj health - xxup lsh xxup uk . \\r\\r\\n ex - global xxmaj coordinator xxup who . \\r\\r\\n ex - regional xxmaj adviser xxup who . \\r\\r\\n xxmaj founder &amp; &amp; xxmaj executive xxmaj coordinator - xxmaj the xxmaj network for xxmaj consumer xxmaj protection xxmaj pakistan \\r\\r\\n xxmaj my lord : ba - xxmaj national xxmaj college xxmaj karachi . \\r\\r\\n xxup llb - xxmaj sindh xxmaj muslim xxmaj law college . # xxup covid2019 https : / / t.co / xxunk</td>\n",
       "      <td>Neutral</td>\n",
       "    </tr>\n",
       "    <tr>\n",
       "      <th>2</th>\n",
       "      <td>xxbos xxmaj so glad i donât : \\r\\r\\n xxmaj live in a big city . \\r\\r\\n xxmaj rely on takeout / dine out . \\r\\r\\n xxmaj rely on delivery . \\r\\r\\n xxmaj rely on transport . \\r\\r\\n\\r\\r\\n xxmaj so glad i xxup do : \\r\\r\\n xxmaj have 6 month stock of food . \\r\\r\\n xxmaj own guns / ammo . \\r\\r\\n xxmaj have most family / friends within blocks . \\r\\r\\n xxmaj live in a small town with woods . \\r\\r\\n xxmaj have a big truck / fam car . \\r\\r\\n▁ # coronavirus https : / / t.co / xxunk</td>\n",
       "      <td>Extremely Positive</td>\n",
       "    </tr>\n",
       "    <tr>\n",
       "      <th>3</th>\n",
       "      <td>xxbos xxmaj we have xxup amazing xxup cheap xxup deals ! xxup for xxup the # xxup covid2019 going on to help you xxrep 3 ? \\r\\r\\n▁ # xxmaj trials \\r\\r\\n▁ # xxmaj monthly \\r\\r\\n▁ # xxmaj yearly \\r\\r\\n xxmaj and xxmaj resonable # xxmaj prices / # xxmaj subscriptions \\r\\r\\n xxmaj just xxup dm xxup us ! # bestiptv # iptv # xxmaj service # xxmaj iptv # iptvdeals # xxmaj cheap # iptv # xxmaj football # xxup hd # xxmaj movies # xxmaj adult # xxmaj cinema # hotmovies # xxmaj cheap xxup instant xxup setup !</td>\n",
       "      <td>Extremely Positive</td>\n",
       "    </tr>\n",
       "    <tr>\n",
       "      <th>4</th>\n",
       "      <td>xxbos xxmaj gold xxmaj prices xxmaj suffer xxmaj as xxmaj severe xxmaj sell xxmaj off xxmaj hits xxmaj the xxmaj markets \\r\\r\\n\\r\\r\\n xxmaj if ever there was blood in the streets … .. \\r\\r\\n\\r\\r\\n https : / / t.co / xxunk \\r\\r\\n\\r\\r\\n▁ # gold \\r\\r\\n▁ # silver \\r\\r\\n▁ # mining \\r\\r\\n▁ # xxmaj trade \\r\\r\\n▁ # investments \\r\\r\\n▁ # speculator \\r\\r\\n▁ # xxmaj markets \\r\\r\\n▁ # xxmaj powell \\r\\r\\n▁ # profits \\r\\r\\n▁ # money \\r\\r\\n▁ # xxmaj oil \\r\\r\\n▁ # xxmaj putin \\r\\r\\n▁ # xxmaj trump \\r\\r\\n▁ # coronavirus \\r\\r\\n▁ # stocks \\r\\r\\n▁ # xxmaj china \\r\\r\\n▁ # xxmaj italy</td>\n",
       "      <td>Extremely Negative</td>\n",
       "    </tr>\n",
       "    <tr>\n",
       "      <th>5</th>\n",
       "      <td>xxbos 1 / 4 \\r\\r\\n\\r\\r\\n xxmaj hereâs xxmaj my xxmaj top 20 xxup covid-19 xxmaj playlist . xxmaj whatâs xxmaj on xxmaj yours ? \\r\\r\\n\\r\\r\\n 1 . âdonât xxmaj stand xxmaj so xxmaj close xxmaj to xxmaj meâ â xxmaj the xxmaj police \\r\\r\\n 2 . xxunk xxmaj xxunk â xxmaj xxunk \\r\\r\\n 3 . xxunk xxmaj outâ â xxmaj alice xxmaj cooper \\r\\r\\n 4 . âi xxmaj donât xxmaj need xxmaj no xxmaj xxunk â xxmaj ray xxmaj charles \\r\\r\\n 5 . xxunk xxmaj in the xxmaj xxunk â xxmaj the xxmaj clash</td>\n",
       "      <td>Negative</td>\n",
       "    </tr>\n",
       "    <tr>\n",
       "      <th>6</th>\n",
       "      <td>xxbos xxmaj men , xxup step xxup the # xxup xxunk xxup up ! ! xxmaj during this # xxmaj coronavirus pandemic , xxmaj do xxup not allow your xxunk / childrenâs mom , to go to the supermarket with the kids ! ! xxup you xxup go ! ! xxmaj whether you live with her or not # xxup xxunk , xxup you # xxunk and xxup you take the risk for # xxup covid19 , not your kids . # xxunk ? ? https : / / t.co / xxunk</td>\n",
       "      <td>Negative</td>\n",
       "    </tr>\n",
       "    <tr>\n",
       "      <th>7</th>\n",
       "      <td>xxbos i got ur # toiletpaper ? right xxup here ! \\r\\r\\n â \\r\\r\\n xxmaj thought it was a # xxup hoax , oh wait no , only 15 positive &amp; &amp; it should be 0 soon , or is it , will just go away by miracle ? xxmaj yeah … xxmaj thatâs xxmaj it ? . \\r\\r\\n â \\r\\r\\n xxmaj had no idea he xxunk even read &amp; &amp; write ? ? ! / # xxunk ? / .@realdonaldtrump # coronavirus # covid19 https : / / t.co / xxunk</td>\n",
       "      <td>Extremely Positive</td>\n",
       "    </tr>\n",
       "    <tr>\n",
       "      <th>8</th>\n",
       "      <td>xxbos xxmaj my emails : \\r\\r\\n\\r\\r\\n xxmaj everyone else : xxmaj an xxmaj update about our xxup covid-19 policies … \\r\\r\\n\\r\\r\\n xxunk : xxup no xxup toilet xxup paper - xxup just xxup deals ! ! xxup down xxup for xxup quarantine xxup and xxup chill xxrep 4 ? xxup make xxup sure xxup you xxup look xxup good xxup in xxup the xxup open xxup xxunk xxup today ? .. ! ! 20 % xxup off xxup our xxup prices xxup and xxup the xxup population xxrep 4 !</td>\n",
       "      <td>Positive</td>\n",
       "    </tr>\n",
       "  </tbody>\n",
       "</table>"
      ],
      "text/plain": [
       "<IPython.core.display.HTML object>"
      ]
     },
     "metadata": {},
     "output_type": "display_data"
    }
   ],
   "source": [
    "dls.show_batch()"
   ]
  },
  {
   "cell_type": "code",
   "execution_count": 31,
   "metadata": {},
   "outputs": [
    {
     "data": {
      "text/html": [
       "<table border=\"1\" class=\"dataframe\">\n",
       "  <thead>\n",
       "    <tr style=\"text-align: left;\">\n",
       "      <th>epoch</th>\n",
       "      <th>train_loss</th>\n",
       "      <th>valid_loss</th>\n",
       "      <th>accuracy</th>\n",
       "      <th>time</th>\n",
       "    </tr>\n",
       "  </thead>\n",
       "  <tbody>\n",
       "    <tr>\n",
       "      <td>0</td>\n",
       "      <td>None</td>\n",
       "      <td>None</td>\n",
       "      <td>00:00</td>\n",
       "    </tr>\n",
       "  </tbody>\n",
       "</table>"
      ],
      "text/plain": [
       "<IPython.core.display.HTML object>"
      ]
     },
     "metadata": {},
     "output_type": "display_data"
    },
    {
     "data": {
      "text/plain": [
       "SequentialRNN (Input shape: ['64 x 166'])\n",
       "================================================================\n",
       "Layer (type)         Output Shape         Param #    Trainable \n",
       "================================================================\n",
       "LSTM                 ['64 x 22 x 1152',   1,852,416  False     \n",
       "________________________________________________________________\n",
       "LSTM                 ['64 x 22 x 1152',   5,317,632  False     \n",
       "________________________________________________________________\n",
       "LSTM                 ['64 x 22 x 400', \"  1,846,400  False     \n",
       "________________________________________________________________\n",
       "RNNDropout           64 x 22 x 400        0          False     \n",
       "________________________________________________________________\n",
       "RNNDropout           64 x 22 x 1152       0          False     \n",
       "________________________________________________________________\n",
       "RNNDropout           64 x 22 x 1152       0          False     \n",
       "________________________________________________________________\n",
       "BatchNorm1d          64 x 1200            2,400      True      \n",
       "________________________________________________________________\n",
       "Dropout              64 x 1200            0          False     \n",
       "________________________________________________________________\n",
       "Linear               64 x 50              60,000     True      \n",
       "________________________________________________________________\n",
       "ReLU                 64 x 50              0          False     \n",
       "________________________________________________________________\n",
       "BatchNorm1d          64 x 50              100        True      \n",
       "________________________________________________________________\n",
       "Dropout              64 x 50              0          False     \n",
       "________________________________________________________________\n",
       "Linear               64 x 5               250        True      \n",
       "________________________________________________________________\n",
       "\n",
       "Total params: 9,079,198\n",
       "Total trainable params: 62,750\n",
       "Total non-trainable params: 9,016,448\n",
       "\n",
       "Optimizer used: <function Adam at 0x7f2498fbd940>\n",
       "Loss function: FlattenedLoss of CrossEntropyLoss()\n",
       "\n",
       "Model frozen up to parameter group #4\n",
       "\n",
       "Callbacks:\n",
       "  - ModelResetter\n",
       "  - RNNRegularizer\n",
       "  - ModelToHalf\n",
       "  - TrainEvalCallback\n",
       "  - Recorder\n",
       "  - ProgressCallback\n",
       "  - MixedPrecision"
      ]
     },
     "execution_count": 31,
     "metadata": {},
     "output_type": "execute_result"
    }
   ],
   "source": [
    "learn_clas.summary()"
   ]
  },
  {
   "cell_type": "markdown",
   "metadata": {},
   "source": [
    "# Exercise the text classifier\n",
    "Apply the fine-tuned text classifier on some text samples."
   ]
  },
  {
   "cell_type": "code",
   "execution_count": 41,
   "metadata": {},
   "outputs": [
    {
     "data": {
      "text/html": [],
      "text/plain": [
       "<IPython.core.display.HTML object>"
      ]
     },
     "metadata": {},
     "output_type": "display_data"
    }
   ],
   "source": [
    "preds = learn_clas.predict(\"the government's approach to the pandemic has been a complete disaster\")"
   ]
  },
  {
   "cell_type": "code",
   "execution_count": 42,
   "metadata": {},
   "outputs": [
    {
     "data": {
      "text/plain": [
       "('Negative',\n",
       " TensorText(2),\n",
       " TensorText([0.3328, 0.0545, 0.3551, 0.1026, 0.1551]))"
      ]
     },
     "execution_count": 42,
     "metadata": {},
     "output_type": "execute_result"
    }
   ],
   "source": [
    "preds"
   ]
  },
  {
   "cell_type": "code",
   "execution_count": 43,
   "metadata": {},
   "outputs": [
    {
     "data": {
      "text/html": [],
      "text/plain": [
       "<IPython.core.display.HTML object>"
      ]
     },
     "metadata": {},
     "output_type": "display_data"
    }
   ],
   "source": [
    "preds = learn_clas.predict(\"the new vaccines hold the promise of a quick return to economic growth\")"
   ]
  },
  {
   "cell_type": "code",
   "execution_count": 44,
   "metadata": {},
   "outputs": [
    {
     "data": {
      "text/plain": [
       "('Extremely Positive',\n",
       " TensorText(1),\n",
       " TensorText([0.0565, 0.3758, 0.1528, 0.0699, 0.3450]))"
      ]
     },
     "execution_count": 44,
     "metadata": {},
     "output_type": "execute_result"
    }
   ],
   "source": [
    "preds"
   ]
  },
  {
   "cell_type": "code",
   "execution_count": 45,
   "metadata": {},
   "outputs": [
    {
     "data": {
      "text/html": [],
      "text/plain": [
       "<IPython.core.display.HTML object>"
      ]
     },
     "metadata": {},
     "output_type": "display_data"
    }
   ],
   "source": [
    "preds = learn_clas.predict(\"this flu is about what we would expect in a normal winter\")"
   ]
  },
  {
   "cell_type": "code",
   "execution_count": 46,
   "metadata": {},
   "outputs": [
    {
     "data": {
      "text/plain": [
       "('Negative',\n",
       " TensorText(2),\n",
       " TensorText([0.2712, 0.0407, 0.3615, 0.1584, 0.1682]))"
      ]
     },
     "execution_count": 46,
     "metadata": {},
     "output_type": "execute_result"
    }
   ],
   "source": [
    "preds"
   ]
  },
  {
   "cell_type": "code",
   "execution_count": 47,
   "metadata": {},
   "outputs": [
    {
     "data": {
      "text/html": [],
      "text/plain": [
       "<IPython.core.display.HTML object>"
      ]
     },
     "metadata": {},
     "output_type": "display_data"
    }
   ],
   "source": [
    "preds = learn_clas.predict(\"the health ministry needs to pay closer attention to the vaccine rollout\")"
   ]
  },
  {
   "cell_type": "code",
   "execution_count": 48,
   "metadata": {},
   "outputs": [
    {
     "data": {
      "text/plain": [
       "('Positive',\n",
       " TensorText(4),\n",
       " TensorText([0.0927, 0.1448, 0.3081, 0.1216, 0.3327]))"
      ]
     },
     "execution_count": 48,
     "metadata": {},
     "output_type": "execute_result"
    }
   ],
   "source": [
    "preds"
   ]
  },
  {
   "cell_type": "code",
   "execution_count": 40,
   "metadata": {},
   "outputs": [
    {
     "data": {
      "text/plain": [
       "Path('/notebooks/temp/models/classifier_single_epoch_standalone_mar20d.pth')"
      ]
     },
     "execution_count": 40,
     "metadata": {},
     "output_type": "execute_result"
    }
   ],
   "source": [
    "# save the classifier model\n",
    "learn_clas.path = Path('/notebooks/temp')\n",
    "learn_clas.save('classifier_single_epoch_'+modifier+'d')"
   ]
  }
 ],
 "metadata": {
  "jupytext": {
   "split_at_heading": true
  },
  "kernelspec": {
   "display_name": "Python 3",
   "language": "python",
   "name": "python3"
  },
  "language_info": {
   "codemirror_mode": {
    "name": "ipython",
    "version": 3
   },
   "file_extension": ".py",
   "mimetype": "text/x-python",
   "name": "python",
   "nbconvert_exporter": "python",
   "pygments_lexer": "ipython3",
   "version": "3.8.6"
  }
 },
 "nbformat": 4,
 "nbformat_minor": 4
}
