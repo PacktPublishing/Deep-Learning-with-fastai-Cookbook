{
 "cells": [
  {
   "cell_type": "markdown",
   "metadata": {},
   "source": [
    "# Training a language model on a standalone dataset with fastai\n",
    "- This notebook ingests the Kaggle Covid tweets dataset (https://www.kaggle.com/datatattle/covid-19-nlp-text-classification)\n",
    "- Trains a language model using pre-trained model AWD_LSTM\n"
   ]
  },
  {
   "cell_type": "code",
   "execution_count": 1,
   "metadata": {},
   "outputs": [],
   "source": [
    "#hide\n",
    "!pip install -Uqq fastbook\n",
    "import fastbook\n",
    "fastbook.setup_book()"
   ]
  },
  {
   "cell_type": "code",
   "execution_count": 14,
   "metadata": {},
   "outputs": [],
   "source": [
    "#hide\n",
    "from fastbook import *\n",
    "from fastai.text.all import *\n",
    "import pickle "
   ]
  },
  {
   "cell_type": "code",
   "execution_count": 3,
   "metadata": {},
   "outputs": [],
   "source": [
    "modifier = 'standalone_mar17'"
   ]
  },
  {
   "cell_type": "markdown",
   "metadata": {},
   "source": [
    "# Training a language model\n",
    "- take a pretrained model and train it some more using a standalone dataset"
   ]
  },
  {
   "cell_type": "code",
   "execution_count": 4,
   "metadata": {},
   "outputs": [
    {
     "name": "stdout",
     "output_type": "stream",
     "text": [
      "CPU times: user 2.1 ms, sys: 618 µs, total: 2.72 ms\n",
      "Wall time: 7.69 ms\n"
     ]
    },
    {
     "data": {
      "text/plain": [
       "(#2) [Path('/storage/archive/covid_tweets/train'),Path('/storage/archive/covid_tweets/test')]"
      ]
     },
     "execution_count": 4,
     "metadata": {},
     "output_type": "execute_result"
    }
   ],
   "source": [
    "%%time\n",
    "# create dataloaders object\n",
    "path = URLs.path('covid_tweets')\n",
    "path.ls()"
   ]
  },
  {
   "cell_type": "markdown",
   "metadata": {},
   "source": [
    "# Tokenize the dataset\n",
    "- to prepare to do transfer learning on the Covid tweets dataset, we first need to\n",
    "get do tokenization"
   ]
  },
  {
   "cell_type": "code",
   "execution_count": 9,
   "metadata": {},
   "outputs": [],
   "source": [
    "# read the training CSV into a dataframe - note that the encoding parameter is needed to avoid a decode error\n",
    "df_train = pd.read_csv(path/'train/Corona_NLP_train.csv',encoding = \"ISO-8859-1\")"
   ]
  },
  {
   "cell_type": "code",
   "execution_count": 13,
   "metadata": {},
   "outputs": [
    {
     "data": {
      "text/html": [],
      "text/plain": [
       "<IPython.core.display.HTML object>"
      ]
     },
     "metadata": {},
     "output_type": "display_data"
    }
   ],
   "source": [
    "df_tok, count = tokenize_df(df_train,['OriginalTweet'])"
   ]
  },
  {
   "cell_type": "code",
   "execution_count": 23,
   "metadata": {},
   "outputs": [],
   "source": [
    "# save the count object to a pickle file\n",
    "filehandler = open('/storage/archive/covid_tweets_tok/counter.pkl', 'wb') \n",
    "pickle.dump(count, filehandler)"
   ]
  },
  {
   "cell_type": "code",
   "execution_count": 26,
   "metadata": {},
   "outputs": [],
   "source": [
    "filehandler = open('/storage/archive/covid_tweets_tok/counter.pkl', 'rb') \n",
    "count2 = pickle.load(filehandler)"
   ]
  },
  {
   "cell_type": "code",
   "execution_count": null,
   "metadata": {},
   "outputs": [],
   "source": [
    "# validate the count object is OK\n",
    "count2"
   ]
  },
  {
   "cell_type": "code",
   "execution_count": 10,
   "metadata": {},
   "outputs": [
    {
     "data": {
      "text/html": [
       "<div>\n",
       "<style scoped>\n",
       "    .dataframe tbody tr th:only-of-type {\n",
       "        vertical-align: middle;\n",
       "    }\n",
       "\n",
       "    .dataframe tbody tr th {\n",
       "        vertical-align: top;\n",
       "    }\n",
       "\n",
       "    .dataframe thead th {\n",
       "        text-align: right;\n",
       "    }\n",
       "</style>\n",
       "<table border=\"1\" class=\"dataframe\">\n",
       "  <thead>\n",
       "    <tr style=\"text-align: right;\">\n",
       "      <th></th>\n",
       "      <th>UserName</th>\n",
       "      <th>ScreenName</th>\n",
       "      <th>Location</th>\n",
       "      <th>TweetAt</th>\n",
       "      <th>OriginalTweet</th>\n",
       "      <th>Sentiment</th>\n",
       "    </tr>\n",
       "  </thead>\n",
       "  <tbody>\n",
       "    <tr>\n",
       "      <th>0</th>\n",
       "      <td>3799</td>\n",
       "      <td>48751</td>\n",
       "      <td>London</td>\n",
       "      <td>16-03-2020</td>\n",
       "      <td>@MeNyrbie @Phil_Gahan @Chrisitv https://t.co/iFz9FAn2Pa and https://t.co/xX6ghGFzCC and https://t.co/I2NlzdxNo8</td>\n",
       "      <td>Neutral</td>\n",
       "    </tr>\n",
       "    <tr>\n",
       "      <th>1</th>\n",
       "      <td>3800</td>\n",
       "      <td>48752</td>\n",
       "      <td>UK</td>\n",
       "      <td>16-03-2020</td>\n",
       "      <td>advice Talk to your neighbours family to exchange phone numbers create contact list with phone numbers of neighbours schools employer chemist GP set up online shopping accounts if poss adequate supplies of regular meds but not over order</td>\n",
       "      <td>Positive</td>\n",
       "    </tr>\n",
       "    <tr>\n",
       "      <th>2</th>\n",
       "      <td>3801</td>\n",
       "      <td>48753</td>\n",
       "      <td>Vagabonds</td>\n",
       "      <td>16-03-2020</td>\n",
       "      <td>Coronavirus Australia: Woolworths to give elderly, disabled dedicated shopping hours amid COVID-19 outbreak https://t.co/bInCA9Vp8P</td>\n",
       "      <td>Positive</td>\n",
       "    </tr>\n",
       "    <tr>\n",
       "      <th>3</th>\n",
       "      <td>3802</td>\n",
       "      <td>48754</td>\n",
       "      <td>NaN</td>\n",
       "      <td>16-03-2020</td>\n",
       "      <td>My food stock is not the only one which is empty...\\r\\r\\n\\r\\r\\nPLEASE, don't panic, THERE WILL BE ENOUGH FOOD FOR EVERYONE if you do not take more than you need. \\r\\r\\nStay calm, stay safe.\\r\\r\\n\\r\\r\\n#COVID19france #COVID_19 #COVID19 #coronavirus #confinement #Confinementotal #ConfinementGeneral https://t.co/zrlG0Z520j</td>\n",
       "      <td>Positive</td>\n",
       "    </tr>\n",
       "    <tr>\n",
       "      <th>4</th>\n",
       "      <td>3803</td>\n",
       "      <td>48755</td>\n",
       "      <td>NaN</td>\n",
       "      <td>16-03-2020</td>\n",
       "      <td>Me, ready to go at supermarket during the #COVID19 outbreak.\\r\\r\\n\\r\\r\\nNot because I'm paranoid, but because my food stock is litteraly empty. The #coronavirus is a serious thing, but please, don't panic. It causes shortage...\\r\\r\\n\\r\\r\\n#CoronavirusFrance #restezchezvous #StayAtHome #confinement https://t.co/usmuaLq72n</td>\n",
       "      <td>Extremely Negative</td>\n",
       "    </tr>\n",
       "  </tbody>\n",
       "</table>\n",
       "</div>"
      ],
      "text/plain": [
       "   UserName  ScreenName   Location     TweetAt  \\\n",
       "0      3799       48751     London  16-03-2020   \n",
       "1      3800       48752         UK  16-03-2020   \n",
       "2      3801       48753  Vagabonds  16-03-2020   \n",
       "3      3802       48754        NaN  16-03-2020   \n",
       "4      3803       48755        NaN  16-03-2020   \n",
       "\n",
       "                                                                                                                                                                                                                                                                                                                        OriginalTweet  \\\n",
       "0                                                                                                                                                                                                                     @MeNyrbie @Phil_Gahan @Chrisitv https://t.co/iFz9FAn2Pa and https://t.co/xX6ghGFzCC and https://t.co/I2NlzdxNo8   \n",
       "1                                                                                       advice Talk to your neighbours family to exchange phone numbers create contact list with phone numbers of neighbours schools employer chemist GP set up online shopping accounts if poss adequate supplies of regular meds but not over order   \n",
       "2                                                                                                                                                                                                 Coronavirus Australia: Woolworths to give elderly, disabled dedicated shopping hours amid COVID-19 outbreak https://t.co/bInCA9Vp8P   \n",
       "3   My food stock is not the only one which is empty...\\r\\r\\n\\r\\r\\nPLEASE, don't panic, THERE WILL BE ENOUGH FOOD FOR EVERYONE if you do not take more than you need. \\r\\r\\nStay calm, stay safe.\\r\\r\\n\\r\\r\\n#COVID19france #COVID_19 #COVID19 #coronavirus #confinement #Confinementotal #ConfinementGeneral https://t.co/zrlG0Z520j   \n",
       "4  Me, ready to go at supermarket during the #COVID19 outbreak.\\r\\r\\n\\r\\r\\nNot because I'm paranoid, but because my food stock is litteraly empty. The #coronavirus is a serious thing, but please, don't panic. It causes shortage...\\r\\r\\n\\r\\r\\n#CoronavirusFrance #restezchezvous #StayAtHome #confinement https://t.co/usmuaLq72n   \n",
       "\n",
       "            Sentiment  \n",
       "0             Neutral  \n",
       "1            Positive  \n",
       "2            Positive  \n",
       "3            Positive  \n",
       "4  Extremely Negative  "
      ]
     },
     "execution_count": 10,
     "metadata": {},
     "output_type": "execute_result"
    }
   ],
   "source": [
    "df_train.head()"
   ]
  },
  {
   "cell_type": "code",
   "execution_count": 29,
   "metadata": {},
   "outputs": [
    {
     "data": {
      "text/html": [
       "<div>\n",
       "<style scoped>\n",
       "    .dataframe tbody tr th:only-of-type {\n",
       "        vertical-align: middle;\n",
       "    }\n",
       "\n",
       "    .dataframe tbody tr th {\n",
       "        vertical-align: top;\n",
       "    }\n",
       "\n",
       "    .dataframe thead th {\n",
       "        text-align: right;\n",
       "    }\n",
       "</style>\n",
       "<table border=\"1\" class=\"dataframe\">\n",
       "  <thead>\n",
       "    <tr style=\"text-align: right;\">\n",
       "      <th></th>\n",
       "      <th>UserName</th>\n",
       "      <th>ScreenName</th>\n",
       "      <th>Location</th>\n",
       "      <th>TweetAt</th>\n",
       "      <th>Sentiment</th>\n",
       "      <th>text</th>\n",
       "      <th>text_length</th>\n",
       "    </tr>\n",
       "  </thead>\n",
       "  <tbody>\n",
       "    <tr>\n",
       "      <th>0</th>\n",
       "      <td>3799</td>\n",
       "      <td>48751</td>\n",
       "      <td>London</td>\n",
       "      <td>16-03-2020</td>\n",
       "      <td>Neutral</td>\n",
       "      <td>[xxbos, @menyrbie, @phil_gahan, @chrisitv, https, :, /, /, t.co, /, ifz9fan2pa, and, https, :, /, /, t.co, /, xx6ghgfzcc, and, https, :, /, /, t.co, /, i2nlzdxno8]</td>\n",
       "      <td>27</td>\n",
       "    </tr>\n",
       "    <tr>\n",
       "      <th>1</th>\n",
       "      <td>3800</td>\n",
       "      <td>48752</td>\n",
       "      <td>UK</td>\n",
       "      <td>16-03-2020</td>\n",
       "      <td>Positive</td>\n",
       "      <td>[xxbos, advice, xxmaj, talk, to, your, neighbours, family, to, exchange, phone, numbers, create, contact, list, with, phone, numbers, of, neighbours, schools, employer, chemist, xxup, gp, set, up, online, shopping, accounts, if, poss, adequate, supplies, of, regular, meds, but, not, over, order]</td>\n",
       "      <td>41</td>\n",
       "    </tr>\n",
       "    <tr>\n",
       "      <th>2</th>\n",
       "      <td>3801</td>\n",
       "      <td>48753</td>\n",
       "      <td>Vagabonds</td>\n",
       "      <td>16-03-2020</td>\n",
       "      <td>Positive</td>\n",
       "      <td>[xxbos, xxmaj, coronavirus, xxmaj, australia, :, xxmaj, woolworths, to, give, elderly, ,, disabled, dedicated, shopping, hours, amid, xxup, covid-19, outbreak, https, :, /, /, t.co, /, binca9vp8p]</td>\n",
       "      <td>27</td>\n",
       "    </tr>\n",
       "    <tr>\n",
       "      <th>3</th>\n",
       "      <td>3802</td>\n",
       "      <td>48754</td>\n",
       "      <td>NaN</td>\n",
       "      <td>16-03-2020</td>\n",
       "      <td>Positive</td>\n",
       "      <td>[xxbos, xxmaj, my, food, stock, is, not, the, only, one, which, is, empty, …, \\r\\r\\n\\r\\r\\n, xxup, please, ,, do, n't, panic, ,, xxup, there, xxup, will, xxup, be, xxup, enough, xxup, food, xxup, for, xxup, everyone, if, you, do, not, take, more, than, you, need, ., \\r\\r\\n, xxmaj, stay, calm, ,, stay, safe, ., \\r\\r\\n\\r\\r\\n▁, #, covid19france, #, xxup, covid_19, #, xxup, covid19, #, coronavirus, #, confinement, #, xxmaj, confinementotal, #, confinementgeneral, https, :, /, /, t.co, /, zrlg0z520j]</td>\n",
       "      <td>79</td>\n",
       "    </tr>\n",
       "    <tr>\n",
       "      <th>4</th>\n",
       "      <td>3803</td>\n",
       "      <td>48755</td>\n",
       "      <td>NaN</td>\n",
       "      <td>16-03-2020</td>\n",
       "      <td>Extremely Negative</td>\n",
       "      <td>[xxbos, xxmaj, me, ,, ready, to, go, at, supermarket, during, the, #, xxup, covid19, outbreak, ., \\r\\r\\n\\r\\r\\n, xxmaj, not, because, xxmaj, i, 'm, paranoid, ,, but, because, my, food, stock, is, litteraly, empty, ., xxmaj, the, #, coronavirus, is, a, serious, thing, ,, but, please, ,, do, n't, panic, ., xxmaj, it, causes, shortage, …, \\r\\r\\n\\r\\r\\n▁, #, coronavirusfrance, #, restezchezvous, #, stayathome, #, confinement, https, :, /, /, t.co, /, usmualq72n]</td>\n",
       "      <td>71</td>\n",
       "    </tr>\n",
       "  </tbody>\n",
       "</table>\n",
       "</div>"
      ],
      "text/plain": [
       "   UserName  ScreenName   Location     TweetAt           Sentiment  \\\n",
       "0      3799       48751     London  16-03-2020             Neutral   \n",
       "1      3800       48752         UK  16-03-2020            Positive   \n",
       "2      3801       48753  Vagabonds  16-03-2020            Positive   \n",
       "3      3802       48754        NaN  16-03-2020            Positive   \n",
       "4      3803       48755        NaN  16-03-2020  Extremely Negative   \n",
       "\n",
       "                                                                                                                                                                                                                                                                                                                                                                                                                                                                                                                  text  \\\n",
       "0                                                                                                                                                                                                                                                                                                                                                  [xxbos, @menyrbie, @phil_gahan, @chrisitv, https, :, /, /, t.co, /, ifz9fan2pa, and, https, :, /, /, t.co, /, xx6ghgfzcc, and, https, :, /, /, t.co, /, i2nlzdxno8]   \n",
       "1                                                                                                                                                                                                             [xxbos, advice, xxmaj, talk, to, your, neighbours, family, to, exchange, phone, numbers, create, contact, list, with, phone, numbers, of, neighbours, schools, employer, chemist, xxup, gp, set, up, online, shopping, accounts, if, poss, adequate, supplies, of, regular, meds, but, not, over, order]   \n",
       "2                                                                                                                                                                                                                                                                                                                 [xxbos, xxmaj, coronavirus, xxmaj, australia, :, xxmaj, woolworths, to, give, elderly, ,, disabled, dedicated, shopping, hours, amid, xxup, covid-19, outbreak, https, :, /, /, t.co, /, binca9vp8p]   \n",
       "3  [xxbos, xxmaj, my, food, stock, is, not, the, only, one, which, is, empty, …, \\r\\r\\n\\r\\r\\n, xxup, please, ,, do, n't, panic, ,, xxup, there, xxup, will, xxup, be, xxup, enough, xxup, food, xxup, for, xxup, everyone, if, you, do, not, take, more, than, you, need, ., \\r\\r\\n, xxmaj, stay, calm, ,, stay, safe, ., \\r\\r\\n\\r\\r\\n▁, #, covid19france, #, xxup, covid_19, #, xxup, covid19, #, coronavirus, #, confinement, #, xxmaj, confinementotal, #, confinementgeneral, https, :, /, /, t.co, /, zrlg0z520j]   \n",
       "4                                         [xxbos, xxmaj, me, ,, ready, to, go, at, supermarket, during, the, #, xxup, covid19, outbreak, ., \\r\\r\\n\\r\\r\\n, xxmaj, not, because, xxmaj, i, 'm, paranoid, ,, but, because, my, food, stock, is, litteraly, empty, ., xxmaj, the, #, coronavirus, is, a, serious, thing, ,, but, please, ,, do, n't, panic, ., xxmaj, it, causes, shortage, …, \\r\\r\\n\\r\\r\\n▁, #, coronavirusfrance, #, restezchezvous, #, stayathome, #, confinement, https, :, /, /, t.co, /, usmualq72n]   \n",
       "\n",
       "   text_length  \n",
       "0           27  \n",
       "1           41  \n",
       "2           27  \n",
       "3           79  \n",
       "4           71  "
      ]
     },
     "execution_count": 29,
     "metadata": {},
     "output_type": "execute_result"
    }
   ],
   "source": [
    "df_tok.head()"
   ]
  },
  {
   "cell_type": "markdown",
   "metadata": {},
   "source": [
    "# Create language model"
   ]
  },
  {
   "cell_type": "code",
   "execution_count": 34,
   "metadata": {},
   "outputs": [
    {
     "data": {
      "text/html": [],
      "text/plain": [
       "<IPython.core.display.HTML object>"
      ]
     },
     "metadata": {},
     "output_type": "display_data"
    },
    {
     "data": {
      "text/html": [
       "<table border=\"1\" class=\"dataframe\">\n",
       "  <thead>\n",
       "    <tr style=\"text-align: right;\">\n",
       "      <th></th>\n",
       "      <th>text</th>\n",
       "      <th>text_</th>\n",
       "    </tr>\n",
       "  </thead>\n",
       "  <tbody>\n",
       "    <tr>\n",
       "      <th>0</th>\n",
       "      <td>xxbos xxmaj work is still getting done in xxmaj xxunk while the fight against # coronavirus goes on , this time impacting xxmaj washington policies around insulin prices , the xxunk tax , and more . \\r\\r\\n\\r\\r\\n https : / / t.co / xxunk xxbos xxmaj the young lady from the supermarket has a good point \\r\\r\\n\\r\\r\\n xxmaj shopping for supplies shouldnât be a family xxunk # xxmaj lockdown # xxmaj coronavirus</td>\n",
       "      <td>xxmaj work is still getting done in xxmaj xxunk while the fight against # coronavirus goes on , this time impacting xxmaj washington policies around insulin prices , the xxunk tax , and more . \\r\\r\\n\\r\\r\\n https : / / t.co / xxunk xxbos xxmaj the young lady from the supermarket has a good point \\r\\r\\n\\r\\r\\n xxmaj shopping for supplies shouldnât be a family xxunk # xxmaj lockdown # xxmaj coronavirus #</td>\n",
       "    </tr>\n",
       "    <tr>\n",
       "      <th>1</th>\n",
       "      <td>we want fish and chips ( reasonable xxunk ) . xxmaj for the record , prices range from â£7 to xxunk . xxmaj most at the â£10 price point . # foodie # xxunk xxbos xxmaj so xxunk prices has gotten up since covid-19 while xxunk is been much cheaper . xxmaj shout out to real ones taking care of us xxbos xxunk @httweets xxmaj do n't you understand that presently fighting</td>\n",
       "      <td>want fish and chips ( reasonable xxunk ) . xxmaj for the record , prices range from â£7 to xxunk . xxmaj most at the â£10 price point . # foodie # xxunk xxbos xxmaj so xxunk prices has gotten up since covid-19 while xxunk is been much cheaper . xxmaj shout out to real ones taking care of us xxbos xxunk @httweets xxmaj do n't you understand that presently fighting with</td>\n",
       "    </tr>\n",
       "    <tr>\n",
       "      <th>2</th>\n",
       "      <td>xxup due xxup to xxup covid -19 xxup pandemic , more people are staying home ! xxbos xxmaj only to the grocery store and doctor appointments . xxmaj otherwise , take caution and sit your arses home . # xxunk # coronavirus # chinesecoronavirus # gloves https : / / t.co / xxunk xxbos xxmaj this shit is all becoming just too much . xxmaj the # xxmaj primary is a bunch</td>\n",
       "      <td>due xxup to xxup covid -19 xxup pandemic , more people are staying home ! xxbos xxmaj only to the grocery store and doctor appointments . xxmaj otherwise , take caution and sit your arses home . # xxunk # coronavirus # chinesecoronavirus # gloves https : / / t.co / xxunk xxbos xxmaj this shit is all becoming just too much . xxmaj the # xxmaj primary is a bunch of</td>\n",
       "    </tr>\n",
       "  </tbody>\n",
       "</table>"
      ],
      "text/plain": [
       "<IPython.core.display.HTML object>"
      ]
     },
     "metadata": {},
     "output_type": "display_data"
    },
    {
     "name": "stdout",
     "output_type": "stream",
     "text": [
      "CPU times: user 22.1 s, sys: 1.9 s, total: 24 s\n",
      "Wall time: 26.8 s\n"
     ]
    }
   ],
   "source": [
    "%%time\n",
    "# create TextDataLoaders object\n",
    "dls = TextDataLoaders.from_df(df_train, path=path, text_col='OriginalTweet',\n",
    "                              is_lm=True)\n",
    "dls.show_batch(max_n=3)"
   ]
  },
  {
   "cell_type": "code",
   "execution_count": 35,
   "metadata": {},
   "outputs": [
    {
     "data": {
      "text/html": [
       "<table border=\"1\" class=\"dataframe\">\n",
       "  <thead>\n",
       "    <tr style=\"text-align: left;\">\n",
       "      <th>epoch</th>\n",
       "      <th>train_loss</th>\n",
       "      <th>valid_loss</th>\n",
       "      <th>accuracy</th>\n",
       "      <th>time</th>\n",
       "    </tr>\n",
       "  </thead>\n",
       "  <tbody>\n",
       "    <tr>\n",
       "      <td>0</td>\n",
       "      <td>4.451701</td>\n",
       "      <td>3.967148</td>\n",
       "      <td>0.320308</td>\n",
       "      <td>02:01</td>\n",
       "    </tr>\n",
       "  </tbody>\n",
       "</table>"
      ],
      "text/plain": [
       "<IPython.core.display.HTML object>"
      ]
     },
     "metadata": {},
     "output_type": "display_data"
    },
    {
     "data": {
      "text/html": [
       "<table border=\"1\" class=\"dataframe\">\n",
       "  <thead>\n",
       "    <tr style=\"text-align: left;\">\n",
       "      <th>epoch</th>\n",
       "      <th>train_loss</th>\n",
       "      <th>valid_loss</th>\n",
       "      <th>accuracy</th>\n",
       "      <th>time</th>\n",
       "    </tr>\n",
       "  </thead>\n",
       "  <tbody>\n",
       "    <tr>\n",
       "      <td>0</td>\n",
       "      <td>3.988934</td>\n",
       "      <td>3.739557</td>\n",
       "      <td>0.342275</td>\n",
       "      <td>02:21</td>\n",
       "    </tr>\n",
       "  </tbody>\n",
       "</table>"
      ],
      "text/plain": [
       "<IPython.core.display.HTML object>"
      ]
     },
     "metadata": {},
     "output_type": "display_data"
    },
    {
     "name": "stdout",
     "output_type": "stream",
     "text": [
      "CPU times: user 3min 41s, sys: 48.5 s, total: 4min 29s\n",
      "Wall time: 4min 23s\n"
     ]
    }
   ],
   "source": [
    "%%time\n",
    "# define and train model\n",
    "learn = language_model_learner(dls,AWD_LSTM,metrics=accuracy).to_fp16()\n",
    "learn.fine_tune(1, 1e-2)"
   ]
  },
  {
   "cell_type": "code",
   "execution_count": 37,
   "metadata": {},
   "outputs": [
    {
     "data": {
      "text/html": [],
      "text/plain": [
       "<IPython.core.display.HTML object>"
      ]
     },
     "metadata": {},
     "output_type": "display_data"
    },
    {
     "data": {
      "text/plain": [
       "'what comes next to the message of panic for customers , who at this time constantly more hardship for businesses , they must'"
      ]
     },
     "execution_count": 37,
     "metadata": {},
     "output_type": "execute_result"
    }
   ],
   "source": [
    "# get prediction\n",
    "learn.predict(\"what comes next\", n_words=20)"
   ]
  },
  {
   "cell_type": "code",
   "execution_count": 38,
   "metadata": {},
   "outputs": [],
   "source": [
    "learn.export('/notebooks/temp/models/lm_model_'+modifier)"
   ]
  },
  {
   "cell_type": "code",
   "execution_count": 39,
   "metadata": {},
   "outputs": [],
   "source": [
    "keep_path = learn.path"
   ]
  },
  {
   "cell_type": "code",
   "execution_count": 40,
   "metadata": {},
   "outputs": [],
   "source": [
    "# workaround to make path writeable\n",
    "learn.path = Path('/notebooks/temp')"
   ]
  },
  {
   "cell_type": "code",
   "execution_count": 41,
   "metadata": {},
   "outputs": [
    {
     "data": {
      "text/plain": [
       "Path('/notebooks/temp')"
      ]
     },
     "execution_count": 41,
     "metadata": {},
     "output_type": "execute_result"
    }
   ],
   "source": [
    "learn.path"
   ]
  },
  {
   "cell_type": "code",
   "execution_count": 42,
   "metadata": {},
   "outputs": [
    {
     "data": {
      "text/plain": [
       "'models'"
      ]
     },
     "execution_count": 42,
     "metadata": {},
     "output_type": "execute_result"
    }
   ],
   "source": [
    "learn.model_dir"
   ]
  },
  {
   "cell_type": "code",
   "execution_count": 43,
   "metadata": {},
   "outputs": [
    {
     "data": {
      "text/plain": [
       "Path('/notebooks/temp/models/lm_standalone_mar17.pth')"
      ]
     },
     "execution_count": 43,
     "metadata": {},
     "output_type": "execute_result"
    }
   ],
   "source": [
    "learn.save('lm_'+modifier)"
   ]
  },
  {
   "cell_type": "code",
   "execution_count": 44,
   "metadata": {},
   "outputs": [],
   "source": [
    "# workaround to save encoder - need to do this to later load encoder for classifier\n",
    "learn.save_encoder('ft_'+modifier)"
   ]
  },
  {
   "cell_type": "code",
   "execution_count": 17,
   "metadata": {},
   "outputs": [],
   "source": [
    "learn.path = keep_path"
   ]
  }
 ],
 "metadata": {
  "jupytext": {
   "split_at_heading": true
  },
  "kernelspec": {
   "display_name": "Python 3",
   "language": "python",
   "name": "python3"
  },
  "language_info": {
   "codemirror_mode": {
    "name": "ipython",
    "version": 3
   },
   "file_extension": ".py",
   "mimetype": "text/x-python",
   "name": "python",
   "nbconvert_exporter": "python",
   "pygments_lexer": "ipython3",
   "version": "3.8.6"
  }
 },
 "nbformat": 4,
 "nbformat_minor": 4
}
