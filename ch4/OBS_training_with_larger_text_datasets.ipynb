{
 "cells": [
  {
   "cell_type": "markdown",
   "metadata": {},
   "source": [
    "# Training a model with a larger text dataset in fast.ai\n",
    "\n",
    "Example of training a model with a larger text dataset in fast.ai.\n",
    "\n",
    "The example shown here is adapted from the paper by Howard and Gugger https://arxiv.org/pdf/2002.04688.pdf"
   ]
  },
  {
   "cell_type": "code",
   "execution_count": 1,
   "metadata": {},
   "outputs": [],
   "source": [
    "# imports for notebook boilerplate\n",
    "!pip install -Uqq fastbook\n",
    "import fastbook\n",
    "from fastbook import *\n",
    "from fastai.text.all import *\n"
   ]
  },
  {
   "cell_type": "code",
   "execution_count": 2,
   "metadata": {},
   "outputs": [],
   "source": [
    "# set up the notebook for fast.ai\n",
    "fastbook.setup_book()"
   ]
  },
  {
   "cell_type": "code",
   "execution_count": 3,
   "metadata": {},
   "outputs": [],
   "source": [
    "# ingest the curated text dataset ADULT_SAMPLE\n",
    "path = untar_data(URLs.DBPEDIA)"
   ]
  },
  {
   "cell_type": "code",
   "execution_count": 4,
   "metadata": {},
   "outputs": [
    {
     "data": {
      "text/plain": [
       "(#4) [Path('/storage/data/dbpedia_csv/readme.txt'),Path('/storage/data/dbpedia_csv/classes.txt'),Path('/storage/data/dbpedia_csv/test.csv'),Path('/storage/data/dbpedia_csv/train.csv')]"
      ]
     },
     "execution_count": 4,
     "metadata": {},
     "output_type": "execute_result"
    }
   ],
   "source": [
    "path.ls()"
   ]
  },
  {
   "cell_type": "code",
   "execution_count": 12,
   "metadata": {},
   "outputs": [
    {
     "data": {
      "text/html": [
       "<div>\n",
       "<style scoped>\n",
       "    .dataframe tbody tr th:only-of-type {\n",
       "        vertical-align: middle;\n",
       "    }\n",
       "\n",
       "    .dataframe tbody tr th {\n",
       "        vertical-align: top;\n",
       "    }\n",
       "\n",
       "    .dataframe thead th {\n",
       "        text-align: right;\n",
       "    }\n",
       "</style>\n",
       "<table border=\"1\" class=\"dataframe\">\n",
       "  <thead>\n",
       "    <tr style=\"text-align: right;\">\n",
       "      <th></th>\n",
       "      <th>0</th>\n",
       "      <th>1</th>\n",
       "      <th>2</th>\n",
       "    </tr>\n",
       "  </thead>\n",
       "  <tbody>\n",
       "    <tr>\n",
       "      <th>0</th>\n",
       "      <td>1</td>\n",
       "      <td>E. D. Abbott Ltd</td>\n",
       "      <td>Abbott of Farnham E D Abbott Limited was a British coachbuilding business based in Farnham Surrey trading under that name from 1929. A major part of their output was under sub-contract to motor vehicle manufacturers. Their business closed in 1972.</td>\n",
       "    </tr>\n",
       "    <tr>\n",
       "      <th>1</th>\n",
       "      <td>1</td>\n",
       "      <td>Schwan-Stabilo</td>\n",
       "      <td>Schwan-STABILO is a German maker of pens for writing colouring and cosmetics as well as markers and highlighters for office use. It is the world's largest manufacturer of highlighter pens Stabilo Boss.</td>\n",
       "    </tr>\n",
       "  </tbody>\n",
       "</table>\n",
       "</div>"
      ],
      "text/plain": [
       "   0                 1  \\\n",
       "0  1  E. D. Abbott Ltd   \n",
       "1  1    Schwan-Stabilo   \n",
       "\n",
       "                                                                                                                                                                                                                                                          2  \n",
       "0   Abbott of Farnham E D Abbott Limited was a British coachbuilding business based in Farnham Surrey trading under that name from 1929. A major part of their output was under sub-contract to motor vehicle manufacturers. Their business closed in 1972.  \n",
       "1                                                 Schwan-STABILO is a German maker of pens for writing colouring and cosmetics as well as markers and highlighters for office use. It is the world's largest manufacturer of highlighter pens Stabilo Boss.  "
      ]
     },
     "execution_count": 12,
     "metadata": {},
     "output_type": "execute_result"
    }
   ],
   "source": [
    "# ingest the train dataset into a Pandas dataframe\n",
    "df_train = pd.read_csv(path/'train.csv',header=None)\n",
    "df_train.head(2)"
   ]
  },
  {
   "cell_type": "code",
   "execution_count": 13,
   "metadata": {},
   "outputs": [
    {
     "name": "stdout",
     "output_type": "stream",
     "text": [
      "df_train:  (560000, 3)\n"
     ]
    }
   ],
   "source": [
    "# get the dimensions of the dataframe\n",
    "print(\"df_train: \",df_train.shape)"
   ]
  },
  {
   "cell_type": "code",
   "execution_count": 14,
   "metadata": {},
   "outputs": [
    {
     "data": {
      "text/html": [
       "<div>\n",
       "<style scoped>\n",
       "    .dataframe tbody tr th:only-of-type {\n",
       "        vertical-align: middle;\n",
       "    }\n",
       "\n",
       "    .dataframe tbody tr th {\n",
       "        vertical-align: top;\n",
       "    }\n",
       "\n",
       "    .dataframe thead th {\n",
       "        text-align: right;\n",
       "    }\n",
       "</style>\n",
       "<table border=\"1\" class=\"dataframe\">\n",
       "  <thead>\n",
       "    <tr style=\"text-align: right;\">\n",
       "      <th></th>\n",
       "      <th>0</th>\n",
       "      <th>1</th>\n",
       "      <th>2</th>\n",
       "    </tr>\n",
       "  </thead>\n",
       "  <tbody>\n",
       "    <tr>\n",
       "      <th>0</th>\n",
       "      <td>1</td>\n",
       "      <td>TY KU</td>\n",
       "      <td>TY KU /taɪkuː/ is an American alcoholic beverage company that specializes in sake and other spirits. The privately-held company was founded in 2004 and is headquartered in New York City New York. While based in New York TY KU's beverages are made in Japan through a joint venture with two sake breweries. Since 2011 TY KU's growth has extended its products into all 50 states.</td>\n",
       "    </tr>\n",
       "    <tr>\n",
       "      <th>1</th>\n",
       "      <td>1</td>\n",
       "      <td>Odd Lot Entertainment</td>\n",
       "      <td>OddLot Entertainment founded in 2001 by longtime producers Gigi Pritzker and Deborah Del Prete (The Wedding Planner) is a film production and financing company based in Culver City California.OddLot produced the film version of Orson Scott Card's sci-fi novel Ender's Game. A film version of this novel had been in the works in one form or another for more than a decade by the time of its release.</td>\n",
       "    </tr>\n",
       "  </tbody>\n",
       "</table>\n",
       "</div>"
      ],
      "text/plain": [
       "   0                      1  \\\n",
       "0  1                  TY KU   \n",
       "1  1  Odd Lot Entertainment   \n",
       "\n",
       "                                                                                                                                                                                                                                                                                                                                                                                                                 2  \n",
       "0                         TY KU /taɪkuː/ is an American alcoholic beverage company that specializes in sake and other spirits. The privately-held company was founded in 2004 and is headquartered in New York City New York. While based in New York TY KU's beverages are made in Japan through a joint venture with two sake breweries. Since 2011 TY KU's growth has extended its products into all 50 states.  \n",
       "1   OddLot Entertainment founded in 2001 by longtime producers Gigi Pritzker and Deborah Del Prete (The Wedding Planner) is a film production and financing company based in Culver City California.OddLot produced the film version of Orson Scott Card's sci-fi novel Ender's Game. A film version of this novel had been in the works in one form or another for more than a decade by the time of its release.  "
      ]
     },
     "execution_count": 14,
     "metadata": {},
     "output_type": "execute_result"
    }
   ],
   "source": [
    "# read the test dataset into a Pandas dataframe with no column headers\n",
    "df_test = pd.read_csv(path/'test.csv',header=None)\n",
    "df_test.head(2)"
   ]
  },
  {
   "cell_type": "code",
   "execution_count": 15,
   "metadata": {},
   "outputs": [
    {
     "data": {
      "text/html": [
       "<div>\n",
       "<style scoped>\n",
       "    .dataframe tbody tr th:only-of-type {\n",
       "        vertical-align: middle;\n",
       "    }\n",
       "\n",
       "    .dataframe tbody tr th {\n",
       "        vertical-align: top;\n",
       "    }\n",
       "\n",
       "    .dataframe thead th {\n",
       "        text-align: right;\n",
       "    }\n",
       "</style>\n",
       "<table border=\"1\" class=\"dataframe\">\n",
       "  <thead>\n",
       "    <tr style=\"text-align: right;\">\n",
       "      <th></th>\n",
       "      <th>0</th>\n",
       "      <th>1</th>\n",
       "      <th>2</th>\n",
       "    </tr>\n",
       "  </thead>\n",
       "  <tbody>\n",
       "    <tr>\n",
       "      <th>0</th>\n",
       "      <td>1</td>\n",
       "      <td>E. D. Abbott Ltd</td>\n",
       "      <td>Abbott of Farnham E D Abbott Limited was a British coachbuilding business based in Farnham Surrey trading under that name from 1929. A major part of their output was under sub-contract to motor vehicle manufacturers. Their business closed in 1972.</td>\n",
       "    </tr>\n",
       "    <tr>\n",
       "      <th>1</th>\n",
       "      <td>1</td>\n",
       "      <td>Schwan-Stabilo</td>\n",
       "      <td>Schwan-STABILO is a German maker of pens for writing colouring and cosmetics as well as markers and highlighters for office use. It is the world's largest manufacturer of highlighter pens Stabilo Boss.</td>\n",
       "    </tr>\n",
       "  </tbody>\n",
       "</table>\n",
       "</div>"
      ],
      "text/plain": [
       "   0                 1  \\\n",
       "0  1  E. D. Abbott Ltd   \n",
       "1  1    Schwan-Stabilo   \n",
       "\n",
       "                                                                                                                                                                                                                                                          2  \n",
       "0   Abbott of Farnham E D Abbott Limited was a British coachbuilding business based in Farnham Surrey trading under that name from 1929. A major part of their output was under sub-contract to motor vehicle manufacturers. Their business closed in 1972.  \n",
       "1                                                 Schwan-STABILO is a German maker of pens for writing colouring and cosmetics as well as markers and highlighters for office use. It is the world's largest manufacturer of highlighter pens Stabilo Boss.  "
      ]
     },
     "execution_count": 15,
     "metadata": {},
     "output_type": "execute_result"
    }
   ],
   "source": [
    "# create a combined dataframe for tokenization\n",
    "df_combined = pd.concat([df_train,df_test])\n",
    "df_combined.head(2)"
   ]
  },
  {
   "cell_type": "code",
   "execution_count": 16,
   "metadata": {},
   "outputs": [
    {
     "name": "stdout",
     "output_type": "stream",
     "text": [
      "df_train:  (560000, 3)\n",
      "df_test:  (70000, 3)\n",
      "df_combined:  (630000, 3)\n"
     ]
    }
   ],
   "source": [
    "# get the dimensions of all the dataframes\n",
    "print(\"df_train: \",df_train.shape)\n",
    "print(\"df_test: \",df_test.shape)\n",
    "print(\"df_combined: \",df_combined.shape)"
   ]
  },
  {
   "cell_type": "code",
   "execution_count": 17,
   "metadata": {},
   "outputs": [
    {
     "data": {
      "text/html": [],
      "text/plain": [
       "<IPython.core.display.HTML object>"
      ]
     },
     "metadata": {},
     "output_type": "display_data"
    }
   ],
   "source": [
    "# get the tokens and token counts for the combined dataframe\n",
    "# specify that column rank 2 contains the text\n",
    "df_tok, count = tokenize_df(df_combined,[df_combined.columns[2]])\n"
   ]
  },
  {
   "cell_type": "code",
   "execution_count": 18,
   "metadata": {},
   "outputs": [
    {
     "data": {
      "text/html": [
       "<div>\n",
       "<style scoped>\n",
       "    .dataframe tbody tr th:only-of-type {\n",
       "        vertical-align: middle;\n",
       "    }\n",
       "\n",
       "    .dataframe tbody tr th {\n",
       "        vertical-align: top;\n",
       "    }\n",
       "\n",
       "    .dataframe thead th {\n",
       "        text-align: right;\n",
       "    }\n",
       "</style>\n",
       "<table border=\"1\" class=\"dataframe\">\n",
       "  <thead>\n",
       "    <tr style=\"text-align: right;\">\n",
       "      <th></th>\n",
       "      <th>0</th>\n",
       "      <th>1</th>\n",
       "      <th>text</th>\n",
       "      <th>text_length</th>\n",
       "    </tr>\n",
       "  </thead>\n",
       "  <tbody>\n",
       "    <tr>\n",
       "      <th>0</th>\n",
       "      <td>1</td>\n",
       "      <td>E. D. Abbott Ltd</td>\n",
       "      <td>[xxbos, xxmaj, abbott, of, xxmaj, farnham, e, d, xxmaj, abbott, xxmaj, limited, was, a, xxmaj, british, coachbuilding, business, based, in, xxmaj, farnham, xxmaj, surrey, trading, under, that, name, from, 1929, ., a, major, part, of, their, output, was, under, sub, -, contract, to, motor, vehicle, manufacturers, ., xxmaj, their, business, closed, in, 1972, .]</td>\n",
       "      <td>54</td>\n",
       "    </tr>\n",
       "    <tr>\n",
       "      <th>1</th>\n",
       "      <td>1</td>\n",
       "      <td>Schwan-Stabilo</td>\n",
       "      <td>[xxbos, schwan, -, stabilo, is, a, xxmaj, german, maker, of, pens, for, writing, colouring, and, cosmetics, as, well, as, markers, and, highlighters, for, office, use, ., xxmaj, it, is, the, world, 's, largest, manufacturer, of, highlighter, pens, xxmaj, stabilo, xxmaj, boss, .]</td>\n",
       "      <td>42</td>\n",
       "    </tr>\n",
       "    <tr>\n",
       "      <th>2</th>\n",
       "      <td>1</td>\n",
       "      <td>Q-workshop</td>\n",
       "      <td>[xxbos, xxmaj, q, -, workshop, is, a, xxmaj, polish, company, located, in, xxmaj, poznań, that, specializes, in, designand, production, of, polyhedral, dice, and, dice, accessories, for, use, in, various, games, (, role, -, playing, gamesboard, games, and, tabletop, wargames, ), ., xxmaj, they, also, run, an, online, retail, store, and, maintainan, active, forum, community.q, -, workshop, was, established, in, 2001, by, xxmaj, patryk, xxmaj, strzelewicz, –, a, student, from, xxmaj, poznań, ., xxmaj, initiallythe, company, sold, its, products, via, online, auction, services, but, in, 2005, ...</td>\n",
       "      <td>92</td>\n",
       "    </tr>\n",
       "  </tbody>\n",
       "</table>\n",
       "</div>"
      ],
      "text/plain": [
       "   0                 1  \\\n",
       "0  1  E. D. Abbott Ltd   \n",
       "1  1    Schwan-Stabilo   \n",
       "2  1        Q-workshop   \n",
       "\n",
       "                                                                                                                                                                                                                                                                                                                                                                                                                                                                                                                                                                                                                      text  \\\n",
       "0                                                                                                                                                                                                                                                [xxbos, xxmaj, abbott, of, xxmaj, farnham, e, d, xxmaj, abbott, xxmaj, limited, was, a, xxmaj, british, coachbuilding, business, based, in, xxmaj, farnham, xxmaj, surrey, trading, under, that, name, from, 1929, ., a, major, part, of, their, output, was, under, sub, -, contract, to, motor, vehicle, manufacturers, ., xxmaj, their, business, closed, in, 1972, .]   \n",
       "1                                                                                                                                                                                                                                                                                                                                  [xxbos, schwan, -, stabilo, is, a, xxmaj, german, maker, of, pens, for, writing, colouring, and, cosmetics, as, well, as, markers, and, highlighters, for, office, use, ., xxmaj, it, is, the, world, 's, largest, manufacturer, of, highlighter, pens, xxmaj, stabilo, xxmaj, boss, .]   \n",
       "2  [xxbos, xxmaj, q, -, workshop, is, a, xxmaj, polish, company, located, in, xxmaj, poznań, that, specializes, in, designand, production, of, polyhedral, dice, and, dice, accessories, for, use, in, various, games, (, role, -, playing, gamesboard, games, and, tabletop, wargames, ), ., xxmaj, they, also, run, an, online, retail, store, and, maintainan, active, forum, community.q, -, workshop, was, established, in, 2001, by, xxmaj, patryk, xxmaj, strzelewicz, –, a, student, from, xxmaj, poznań, ., xxmaj, initiallythe, company, sold, its, products, via, online, auction, services, but, in, 2005, ...   \n",
       "\n",
       "   text_length  \n",
       "0           54  \n",
       "1           42  \n",
       "2           92  "
      ]
     },
     "execution_count": 18,
     "metadata": {},
     "output_type": "execute_result"
    }
   ],
   "source": [
    "df_tok.head(3)"
   ]
  },
  {
   "cell_type": "code",
   "execution_count": 19,
   "metadata": {},
   "outputs": [
    {
     "name": "stdout",
     "output_type": "stream",
     "text": [
      "very common word (count['the']): 1825444\n",
      "moderately common word (count['prepared']): 177\n",
      "rare word (count['ticky']): 0\n"
     ]
    }
   ],
   "source": [
    "# get the count value for a very common word, a moderately common\n",
    "# word and a rare word\n",
    "print(\"very common word (count['the']):\", count['the'])\n",
    "print(\"moderately common word (count['prepared']):\", count['prepared'])\n",
    "print(\"rare word (count['ticky']):\", count['ticky'])"
   ]
  },
  {
   "cell_type": "code",
   "execution_count": null,
   "metadata": {},
   "outputs": [
    {
     "data": {
      "text/html": [
       "\n",
       "    <div>\n",
       "        <style>\n",
       "            /* Turns off some styling */\n",
       "            progress {\n",
       "                /* gets rid of default border in Firefox and Opera. */\n",
       "                border: none;\n",
       "                /* Needs to be in here for Safari polyfill so background images work as expected. */\n",
       "                background-size: auto;\n",
       "            }\n",
       "            .progress-bar-interrupted, .progress-bar-interrupted::-webkit-progress-bar {\n",
       "                background: #F44336;\n",
       "            }\n",
       "        </style>\n",
       "      <progress value='20252' class='' max='630000' style='width:300px; height:20px; vertical-align: middle;'></progress>\n",
       "      3.21% [20252/630000 01:57<59:00]\n",
       "    </div>\n",
       "    "
      ],
      "text/plain": [
       "<IPython.core.display.HTML object>"
      ]
     },
     "metadata": {},
     "output_type": "display_data"
    }
   ],
   "source": [
    "dls = TextDataLoaders.from_df(df_tok, path=path, \n",
    "    vocab = make_vocab(count),text_col = 'text', is_lm=True)"
   ]
  },
  {
   "cell_type": "code",
   "execution_count": 11,
   "metadata": {},
   "outputs": [],
   "source": [
    "#train the model\n",
    "learn = language_model_learner(dls,AWD_LSTM,metrics=accuracy)\n"
   ]
  },
  {
   "cell_type": "code",
   "execution_count": 12,
   "metadata": {},
   "outputs": [
    {
     "data": {
      "text/html": [
       "<table border=\"1\" class=\"dataframe\">\n",
       "  <thead>\n",
       "    <tr style=\"text-align: left;\">\n",
       "      <th>epoch</th>\n",
       "      <th>train_loss</th>\n",
       "      <th>valid_loss</th>\n",
       "      <th>accuracy</th>\n",
       "      <th>time</th>\n",
       "    </tr>\n",
       "  </thead>\n",
       "  <tbody>\n",
       "    <tr>\n",
       "      <td>0</td>\n",
       "      <td>1.639356</td>\n",
       "      <td>1.457713</td>\n",
       "      <td>0.771113</td>\n",
       "      <td>01:38</td>\n",
       "    </tr>\n",
       "  </tbody>\n",
       "</table>"
      ],
      "text/plain": [
       "<IPython.core.display.HTML object>"
      ]
     },
     "metadata": {},
     "output_type": "display_data"
    }
   ],
   "source": [
    "# fit the model with one epoch, LR = 0.02, and momentum = ( 0.8 , 0.7 , 0.8 )\n",
    "learn.fit_one_cycle( 1 , 0.02)"
   ]
  },
  {
   "cell_type": "code",
   "execution_count": 13,
   "metadata": {},
   "outputs": [
    {
     "data": {
      "text/html": [],
      "text/plain": [
       "<IPython.core.display.HTML object>"
      ]
     },
     "metadata": {},
     "output_type": "display_data"
    }
   ],
   "source": [
    "preds = learn.predict('The subject is', n_words=20)"
   ]
  },
  {
   "cell_type": "code",
   "execution_count": 14,
   "metadata": {},
   "outputs": [
    {
     "data": {
      "text/plain": [
       "'The subject is words , to , and sharing that , bourne , credits , bugs , \" good \\' , \\' the'"
      ]
     },
     "execution_count": 14,
     "metadata": {},
     "output_type": "execute_result"
    }
   ],
   "source": [
    "preds"
   ]
  },
  {
   "cell_type": "code",
   "execution_count": 15,
   "metadata": {},
   "outputs": [],
   "source": [
    "# .str.replace(',',''), '\\''\n",
    "preds2 = preds.replace(', ','').replace('\\' ','')"
   ]
  },
  {
   "cell_type": "code",
   "execution_count": 16,
   "metadata": {},
   "outputs": [
    {
     "data": {
      "text/plain": [
       "'The subject is words to and sharing that bourne credits bugs \" good the'"
      ]
     },
     "execution_count": 16,
     "metadata": {},
     "output_type": "execute_result"
    }
   ],
   "source": [
    "preds2"
   ]
  },
  {
   "cell_type": "code",
   "execution_count": 17,
   "metadata": {},
   "outputs": [],
   "source": [
    "# save the model in /storage/data/wikitext-2/wikitext_tiny_model.pkl\n",
    "learn.export('imdb_sample.pkl')"
   ]
  },
  {
   "cell_type": "code",
   "execution_count": null,
   "metadata": {},
   "outputs": [],
   "source": []
  }
 ],
 "metadata": {
  "kernelspec": {
   "display_name": "Python 3",
   "language": "python",
   "name": "python3"
  },
  "language_info": {
   "codemirror_mode": {
    "name": "ipython",
    "version": 3
   },
   "file_extension": ".py",
   "mimetype": "text/x-python",
   "name": "python",
   "nbconvert_exporter": "python",
   "pygments_lexer": "ipython3",
   "version": "3.8.6"
  }
 },
 "nbformat": 4,
 "nbformat_minor": 4
}
